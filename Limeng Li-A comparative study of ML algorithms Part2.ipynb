{
 "cells": [
  {
   "cell_type": "markdown",
   "metadata": {
    "nbgrader": {
     "grade": false,
     "grade_id": "cell-4aaad103476c9b9c",
     "locked": true,
     "schema_version": 1,
     "solution": false
    }
   },
   "source": [
    "# A comparative study of ML algorithms  (Part 2 )\n"
   ]
  },
  {
   "cell_type": "code",
   "execution_count": null,
   "metadata": {
    "collapsed": true,
    "nbgrader": {
     "grade": true,
     "grade_id": "cell-cacd46e9d0afcea2",
     "locked": true,
     "points": 2,
     "schema_version": 1,
     "solution": false
    },
    "scrolled": true
   },
   "outputs": [],
   "source": [
    "import pickle\n",
    "import pandas as pd\n",
    "import numpy as np\n",
    "\n",
    "# the public folder below contains files that are used in this assignment\n",
    "public = '../resource/asnlib/publicdata/'\n",
    "\n",
    "# helper function \n",
    "def display_example(EXAMPLE_FOLDER, hw, exercise, question):\n",
    "    sample_file = EXAMPLE_FOLDER + '%s_%s_%s_sample.csv'%(hw, exercise,question)\n",
    "    print(pd.read_csv(sample_file, index_col=0))\n",
    "\n",
    "EXPORT_SOLUTION = False\n",
    "if EXPORT_SOLUTION:\n",
    "    %run Homework5-part1.py\n",
    "    \n",
    "utils = public + 'utils.py'        # grading code\n",
    "solution = public + '[solution]/'  # solution filess\n",
    "%run $utils\n",
    "EXPORT_SOLUTION = False"
   ]
  },
  {
   "cell_type": "markdown",
   "metadata": {
    "nbgrader": {
     "grade": false,
     "grade_id": "cell-7944b4f2619c7b90",
     "locked": true,
     "schema_version": 1,
     "solution": false
    }
   },
   "source": [
    "## Part 2: Preperation for ML algorithms"
   ]
  },
  {
   "cell_type": "code",
   "execution_count": null,
   "metadata": {
    "collapsed": true,
    "nbgrader": {
     "grade": false,
     "grade_id": "cell-96216d2f3d766198",
     "locked": true,
     "schema_version": 1,
     "solution": false
    },
    "scrolled": true
   },
   "outputs": [],
   "source": [
    "%run part2_setup.py"
   ]
  },
  {
   "cell_type": "markdown",
   "metadata": {
    "nbgrader": {
     "grade": false,
     "grade_id": "cell-51b6b36cd4dfaca2",
     "locked": true,
     "schema_version": 1,
     "solution": false
    }
   },
   "source": [
    "7.Write the function `prepare_data(dataset_dict)`, which takes a dataset dictionary and returns a __tuple__ (X,y) that holds the datamatrix and the labels:\n",
    "- Both X and y are of type numpy arrays. \n",
    "- If the output variable is numeric (`np.issubdtype(y.dtype, np.number)`) it should be kept as is; otherwise it should be discretized using the command `pandas.factorize()` (use default function parameters). \n",
    "- Categorical features (whose columns are specified in the configuration file) should be transformed into binary values using the command `pandas.get_dummies()`: \n",
    "    - Add all columns even in the case of binary values; that is, keep `drop_first=False`    \n",
    "    - Run the command `pandas.get_dummies` column by column, that is, on series rather than a DataFrame (the reason is that the function ignores numeric values when applied to an entire dataframe and results in a different order of columns) \n",
    "- The order of columns/features in X should be the following: original numerical columns followed by binarized categorical features. \n",
    "- In addition to returning the tuple (X,y), the function should add to `dataset_dict` the values of X and y using the keys 'X' and 'y'. "
   ]
  },
  {
   "cell_type": "code",
   "execution_count": null,
   "metadata": {
    "collapsed": true,
    "nbgrader": {
     "grade": false,
     "grade_id": "cell-a5c1b794362032e4",
     "locked": false,
     "schema_version": 1,
     "solution": true
    },
    "scrolled": true
   },
   "outputs": [],
   "source": [
    "def prepare_data(dataset_dict):    \n",
    "    \"\"\" Prepare datafile for learning algorithms (converts categorical values and separates X,y) \n",
    "    \n",
    "    Parameters\n",
    "    ----------\n",
    "      dataset_dict : dictionary holding information about the dataset\n",
    "      \n",
    "    Returns\n",
    "    -------\n",
    "      (X,y) - tuple holding the data matrix and output variables      \n",
    "    \n",
    "    Note: there is no need to call the function load_data, which is executed prior to calling the function prepare_data.\n",
    "    \"\"\"\n",
    "    pass\n",
    "\n",
    "###\n",
    "### YOUR CODE HERE\n",
    "###\n",
    "def prepare_data(dataset_dict): \n",
    "    X=dataset_dict['data_original'].loc[:,dataset_dict['value_indices']]\n",
    "    y=dataset_dict['data_original'].loc[:,dataset_dict['target_index']]\n",
    "    if np.issubdtype(y.dtype,np.number)==False:\n",
    "        y,z=pd.factorize(y)\n",
    "    else:\n",
    "        y=y.values\n",
    "    df=pd.DataFrame()\n",
    "    for i in dataset_dict['categoric_indices']:\n",
    "        df1=pd.get_dummies(pd.Series(X[i]),drop_first=False)\n",
    "        df=pd.concat([df,df1],axis=1)\n",
    "        X=X.drop([i],axis=1)\n",
    "    df=pd.concat([X,df],axis=1)\n",
    "    df=df.reset_index(drop=True)\n",
    "    X=df.values\n",
    "    atuple=(X,y)\n",
    "    dataset_dict['X']=X\n",
    "    dataset_dict['y']=y\n",
    "    return atuple"
   ]
  },
  {
   "cell_type": "code",
   "execution_count": null,
   "metadata": {
    "collapsed": true,
    "nbgrader": {
     "grade": false,
     "grade_id": "cell-827e344d29488ec6",
     "locked": true,
     "schema_version": 1,
     "solution": false
    }
   },
   "outputs": [],
   "source": [
    "def print_sample(dataset_folder):\n",
    "    #dataset_dict = load_config_file(public+'data/'+dataset_folder+'/')\n",
    "    #load_data(dataset_dict)\n",
    "\n",
    "    print('The first 5 observations in X:')\n",
    "    display_example(public, 5, 1.7, dataset_folder+'-X')\n",
    "    print('\\nThe first 5 labels in y:')\n",
    "    display_example(public, 5, 1.7, dataset_folder+'-y')\n"
   ]
  },
  {
   "cell_type": "code",
   "execution_count": null,
   "metadata": {
    "collapsed": true,
    "nbgrader": {
     "grade": false,
     "grade_id": "cell-8502e85c70454941",
     "locked": true,
     "schema_version": 1,
     "solution": false
    }
   },
   "outputs": [],
   "source": [
    "print_sample('acute-inflammations-1') # you may change the dataset name to view the first rows of other datasets"
   ]
  },
  {
   "cell_type": "code",
   "execution_count": null,
   "metadata": {
    "collapsed": true,
    "nbgrader": {
     "grade": true,
     "grade_id": "q8",
     "locked": true,
     "points": 22,
     "schema_version": 1,
     "solution": false
    },
    "scrolled": true
   },
   "outputs": [],
   "source": [
    "#q8\n",
    "\n",
    "###\n",
    "### AUTOGRADER TEST - DO NOT REMOVE\n",
    "###\n",
    "\n",
    "for dataset_folder in classification_folders:\n",
    "    X,y,df_y,df_X,dataset_dict=None,None,None,None,None\n",
    "    try:\n",
    "        print('Testing the function \"prepare_data\" on the dataset', dataset_folder)\n",
    "        pickle_in = open(solution + dataset_folder + \"(w_data_before_prep).pickle\",'rb')\n",
    "        dataset_dict = pickle.load(pickle_in)\n",
    "        pickle_in.close()\n",
    "\n",
    "        X,y = prepare_data(dataset_dict)\n",
    "        df_y = pd.DataFrame(y)\n",
    "        df_X = pd.DataFrame(X)\n",
    "        grade_dataframe(solution, df_y, 5, 1.7, dataset_folder+'-y')\n",
    "        grade_dataframe(solution, df_X, 5, 1.7, dataset_folder+'-X')\n",
    "    except Exception as e:\n",
    "        print('Encountered error with the matrix representation of dataset',dataset_folder)\n",
    "        print('First 5 rows of the expected output:')\n",
    "        print_sample(dataset_folder)\n",
    "        print('\\nGenerated output')\n",
    "        print(df_X)\n",
    "        print(df_y)\n",
    "        raise(e)\n",
    "\n"
   ]
  },
  {
   "cell_type": "code",
   "execution_count": null,
   "metadata": {
    "collapsed": true
   },
   "outputs": [],
   "source": []
  }
 ],
 "metadata": {
  "celltoolbar": "Create Assignment",
  "kernelspec": {
   "display_name": "Python 3",
   "language": "python",
   "name": "python3"
  },
  "language_info": {
   "codemirror_mode": {
    "name": "ipython",
    "version": 3
   },
   "file_extension": ".py",
   "mimetype": "text/x-python",
   "name": "python",
   "nbconvert_exporter": "python",
   "pygments_lexer": "ipython3",
   "version": "3.6.5"
  },
  "toc": {
   "base_numbering": 1,
   "nav_menu": [],
   "number_sections": false,
   "sideBar": false,
   "skip_h1_title": false,
   "title_cell": "Table of Contents",
   "title_sidebar": "Contents",
   "toc_cell": false,
   "toc_position": [],
   "toc_section_display": false,
   "toc_window_display": false
  }
 },
 "nbformat": 4,
 "nbformat_minor": 2
}
