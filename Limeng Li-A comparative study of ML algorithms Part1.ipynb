{
 "cells": [
  {
   "cell_type": "markdown",
   "metadata": {
    "nbgrader": {
     "grade": false,
     "grade_id": "cell-baa1a67c0dae3e66",
     "locked": true,
     "schema_version": 1,
     "solution": false
    },
    "slideshow": {
     "slide_type": "-"
    }
   },
   "source": [
    "# Homework 5: A comparative study of ML algorithms  (Part 1)\n",
    "<h2>Predictive Analytics using Python</h2>\n",
    "<h3>Simon Business School</h3>\n",
    "\n",
    "__Instructor__: Yaron Shaposhnik\n",
    "\n",
    "\n",
    "__Submission guidelines:__\n",
    "1. Answer each question in the following cell.\n",
    "2. __Click \"Submit\" to submit and execute the automatic grading__ (without this step the submission will not be recorded). \n",
    "3. You may submit multiple solutions but your last submission will determine your grade.\n",
    "4. You may save the notebook and resume the work later.\n",
    "5. __Refrain from adding any identifiable information to the notebook__. The notebook may be made public.  \n",
    "\n"
   ]
  },
  {
   "cell_type": "markdown",
   "metadata": {
    "nbgrader": {
     "grade": false,
     "grade_id": "cell-604112da2d4f8c33",
     "locked": true,
     "schema_version": 1,
     "solution": false
    }
   },
   "source": [
    "## Overview\n",
    "\n",
    "__Goal:__ The goal of this assignment is to conduct a study that compares the performance of various classification algorithms on multiple datasets. \n",
    "\n",
    "__Datasets:__ The folder data contains 98 publicly available datasets from the UCI machine learning repository ([link](http://archive.ics.uci.edu/ml/index.php)). These datasets were collected and converted to a standard format by Dunn and Bertsimas (for more details see [link1](https://github.com/JackDunnNZ/uci-data) and [link2](http://jack.dunn.nz/papers/OptimalClassificationTrees.pdf)):\n",
    "* Each dataset is stored in a separate folder\n",
    "* Each folder contains a datafile and the configuration file config.ini specifying the data format\n",
    "- Data files are stored in csv format and their names either end with \".orig\" or at \".custom\". When both files exist in a folder, we will use the file ending with \".custom\"\n",
    "- Each config.ini file contains information about a dataset, such as\n",
    "    - separator: the character used to separate columns in the respective csv file\n",
    "    - header_lines: the number of rows to be skipped in the datafile as these contain some information about the file but not data\n",
    "    - target_index: the column number of the output variable\n",
    "    - value_indices: the column numbers of the input variables\n",
    "    - categoric_indices: column numbers of categorical data\n",
    "    \n",
    "__Remarks__:\n",
    "1. Notice that column numbering in the configuration files begins with 1 (versus 0 in Python)\n",
    "2. You may use the package [configparser](https://docs.python.org/3.7/library/configparser.html) to read and parse config.ini files\n",
    "3. The character \"?\" denotes a null value. After reading a data file, you may drop all lines that contain null values.\n",
    "4. Out of the 98 datasets, use only the 54 datasets whose name is stored in the file \"datasets_selection\" (the other datasets pertain to regression problems).\n",
    "\n",
    "\n",
    "__Assignment__: compare the performance of the following classification algorithms on the 54 datasets: \n",
    "- Support vector machine, \n",
    "- Logistic Regression, \n",
    "- K-nearest neighbors, \n",
    "- Decision trees, \n",
    "- Quadratic discriminant analysis, \n",
    "- Random forests, and \n",
    "- AdaBoost\n",
    "\n",
    "\n",
    "This jupyter notebook will guide you through the analysis. You will then discuss your key findings, the limitations of the analysis, and compare the use of ML methods in this project to typical ML applications. \n",
    "\n",
    "__Tip:__ Start early. The assignment requires substantial amount of files processing prior to running the learning algorithms and analyzing the results."
   ]
  },
  {
   "cell_type": "code",
   "execution_count": 1,
   "metadata": {
    "collapsed": true,
    "nbgrader": {
     "grade": true,
     "grade_id": "cell-72e840c719edd162",
     "locked": true,
     "points": 0,
     "schema_version": 1,
     "solution": false
    },
    "scrolled": true,
    "slideshow": {
     "slide_type": "-"
    }
   },
   "outputs": [],
   "source": [
    "import pandas as pd\n",
    "import numpy as np\n",
    "\n",
    "# the public folder below contains files that are used in this assignment\n",
    "public = '../resource/asnlib/publicdata/'\n",
    "\n",
    "# helper function \n",
    "def display_example(EXAMPLE_FOLDER, hw, exercise, question):\n",
    "    sample_file = EXAMPLE_FOLDER + '%s_%s_%s_sample.csv'%(hw, exercise,question)\n",
    "    print(pd.read_csv(sample_file, index_col=0))\n",
    "\n",
    "    \n",
    "utils = public + 'utils.py'        # grading code\n",
    "solution = public + '[solution]/'  # solutions \n",
    "%run $utils\n",
    "###\n",
    "### AUTOGRADER TEST - DO NOT REMOVE\n",
    "###\n"
   ]
  },
  {
   "cell_type": "markdown",
   "metadata": {
    "nbgrader": {
     "grade": false,
     "grade_id": "cell-1a3d3e35ad83b415",
     "locked": true,
     "schema_version": 1,
     "solution": false
    }
   },
   "source": [
    "## Part 1: Exploring a new data format\n",
    "\n",
    "In this part of the assignment, you will explore the format of the datasets.\n",
    "\n",
    "The folder `data` (located in the public folder) contains 98 publicly available datasets from the UCI machine learning repository ([link](http://archive.ics.uci.edu/ml/index.php)). These datasets were collected and converted to a standard format by Dunn and Bertsimas (for more details see [link1](https://github.com/JackDunnNZ/uci-data) and [link2](http://jack.dunn.nz/papers/OptimalClassificationTrees.pdf)). Each dataset is stored in a separate folder."
   ]
  },
  {
   "cell_type": "markdown",
   "metadata": {
    "nbgrader": {
     "grade": false,
     "grade_id": "cell-96d9a3c1616190ac",
     "locked": true,
     "schema_version": 1,
     "solution": false
    }
   },
   "source": [
    "1.Store the names of the subfolders in `data` as a list named `datasets_folders`."
   ]
  },
  {
   "cell_type": "code",
   "execution_count": 2,
   "metadata": {
    "collapsed": true,
    "nbgrader": {
     "grade": false,
     "grade_id": "cell-114fe57e9cc94929",
     "locked": false,
     "schema_version": 1,
     "solution": true
    },
    "scrolled": true
   },
   "outputs": [],
   "source": [
    "datasets_folders=!ls $public/data"
   ]
  },
  {
   "cell_type": "code",
   "execution_count": 3,
   "metadata": {
    "collapsed": true,
    "nbgrader": {
     "grade": true,
     "grade_id": "q1",
     "locked": true,
     "points": 3,
     "schema_version": 1,
     "solution": false
    }
   },
   "outputs": [],
   "source": [
    "#q1\n",
    "\n",
    "###\n",
    "### AUTOGRADER TEST - DO NOT REMOVE\n",
    "###\n"
   ]
  },
  {
   "cell_type": "markdown",
   "metadata": {},
   "source": [
    "2.One of the datasets in `data` is called `abalone`. Store the __relative__ location of the respective folder into the variable `dataset_folder` (see the definition of the variable `public` above)."
   ]
  },
  {
   "cell_type": "code",
   "execution_count": 4,
   "metadata": {
    "collapsed": true,
    "nbgrader": {
     "grade": false,
     "grade_id": "cell-9af1abddb615cf2f",
     "locked": false,
     "schema_version": 1,
     "solution": true
    }
   },
   "outputs": [],
   "source": [
    "dataset_folder= '../resource/asnlib/publicdata/data/abalone/'"
   ]
  },
  {
   "cell_type": "code",
   "execution_count": 5,
   "metadata": {
    "collapsed": true,
    "nbgrader": {
     "grade": true,
     "grade_id": "q2",
     "locked": true,
     "points": 3,
     "schema_version": 1,
     "solution": false
    }
   },
   "outputs": [],
   "source": [
    "#q2\n",
    "\n",
    "###\n",
    "### AUTOGRADER TEST - DO NOT REMOVE\n",
    "###\n"
   ]
  },
  {
   "cell_type": "markdown",
   "metadata": {
    "nbgrader": {
     "grade": false,
     "grade_id": "cell-a321188b1234a63c",
     "locked": true,
     "schema_version": 1,
     "solution": false
    }
   },
   "source": [
    "3.Each subfolder of `data` contains a datafile (whose extension is .orig or .custom) and the configuration file `config.ini` specifying the data format. \n",
    "Data files are formatted as comma separated values and their names either end with \".orig\" or at \".custom\". If both files exist in a folder, use the file ending with \".custom\". \n",
    "\n",
    "The code below illustrates the file structure and the data format."
   ]
  },
  {
   "cell_type": "code",
   "execution_count": 6,
   "metadata": {
    "nbgrader": {
     "grade": false,
     "grade_id": "cell-ad2ad74225ace3d2",
     "locked": true,
     "schema_version": 1,
     "solution": false
    }
   },
   "outputs": [
    {
     "name": "stdout",
     "output_type": "stream",
     "text": [
      "abalone.data.orig  config.ini\r\n"
     ]
    }
   ],
   "source": [
    "# the files inside the folder `abalone`\n",
    "!ls $dataset_folder"
   ]
  },
  {
   "cell_type": "code",
   "execution_count": 7,
   "metadata": {
    "nbgrader": {
     "grade": false,
     "grade_id": "cell-00e0736c4450eba8",
     "locked": true,
     "schema_version": 1,
     "solution": false
    }
   },
   "outputs": [
    {
     "name": "stdout",
     "output_type": "stream",
     "text": [
      "M,0.455,0.365,0.095,0.514,0.2245,0.101,0.15,15\r\n",
      "M,0.35,0.265,0.09,0.2255,0.0995,0.0485,0.07,7\r\n",
      "F,0.53,0.42,0.135,0.677,0.2565,0.1415,0.21,9\r\n",
      "M,0.44,0.365,0.125,0.516,0.2155,0.114,0.155,10\r\n",
      "I,0.33,0.255,0.08,0.205,0.0895,0.0395,0.055,7\r\n",
      "I,0.425,0.3,0.095,0.3515,0.141,0.0775,0.12,8\r\n",
      "F,0.53,0.415,0.15,0.7775,0.237,0.1415,0.33,20\r\n",
      "F,0.545,0.425,0.125,0.768,0.294,0.1495,0.26,16\r\n",
      "M,0.475,0.37,0.125,0.5095,0.2165,0.1125,0.165,9\r\n",
      "F,0.55,0.44,0.15,0.8945,0.3145,0.151,0.32,19\r\n"
     ]
    }
   ],
   "source": [
    "# the first 5 rows of the data file\n",
    "f = dataset_folder + 'abalone.data.orig'\n",
    "!head $f"
   ]
  },
  {
   "cell_type": "code",
   "execution_count": 8,
   "metadata": {
    "nbgrader": {
     "grade": false,
     "grade_id": "cell-e7966577fe719e09",
     "locked": true,
     "schema_version": 1,
     "solution": false
    }
   },
   "outputs": [
    {
     "name": "stdout",
     "output_type": "stream",
     "text": [
      "[info]\r\n",
      "name = abalone.data\r\n",
      "info_url = http://archive.ics.uci.edu/ml/datasets/Abalone\r\n",
      "data_url = http://archive.ics.uci.edu/ml/machine-learning-databases/abalone/abalone.data\r\n",
      "target_index = 9\r\n",
      "id_indices =\r\n",
      "value_indices = 1,2,3,4,5,6,7,8\r\n",
      "categoric_indices = 1\r\n",
      "separator = comma\r\n",
      "header_lines = 0\r\n"
     ]
    }
   ],
   "source": [
    "# the content of the configuration file:\n",
    "f = dataset_folder + 'config.ini'\n",
    "!head $f"
   ]
  },
  {
   "cell_type": "markdown",
   "metadata": {
    "nbgrader": {
     "grade": false,
     "grade_id": "cell-057d3f7c66c636d1",
     "locked": true,
     "schema_version": 1,
     "solution": false
    }
   },
   "source": [
    "Each `config.ini` file contains information about a dataset: \n",
    "- separator: the character used to separate columns in the respective csv file\n",
    "- header_lines: the number of rows to be skipped in the datafile as these contain some information about the dataset, which is not data\n",
    "- target_index: the column number of the output variable\n",
    "- value_indices: the column numbers of the input variables\n",
    "- categoric_indices: column numbers of categorical data\n"
   ]
  },
  {
   "cell_type": "markdown",
   "metadata": {
    "nbgrader": {
     "grade": false,
     "grade_id": "cell-d96be946ff42734b",
     "locked": true,
     "schema_version": 1,
     "solution": false
    }
   },
   "source": [
    "4.Implement the function `load_config_file(dataset_folder)` which reads the configuration file of the dataset stored in the folder `dataset_folder` into a dictionary. Ignore the fields: info_url and data_url. Include a few additional fields:\n",
    "- config_file: the location of the configuration file\n",
    "- folder: the location of the dataset's folder\n",
    "- data_file: the location of the data file (.custom file if available, otherwise the .orig file)\n",
    "\n",
    "Note that: \n",
    "1. Column numbering in the configuration files begins with 1 (versus 0 in Python). Use Python's convention to store the values of indexes (columns `target_index`,`id_indices`,`categoric_indices`, and `value_indices`).\n",
    "2. You may use the package [configparser](https://docs.python.org/3.7/library/configparser.html) to read and parse config.ini files\n",
    "3. Change the value of separator to hold the actual charachter/string/re used to separate columns (that is, modify \"\" to \"\\s+\", \"comma\" to \",\" and keep semicolon as is). For example, the configuration file may specify _separator=comma_ but you should initialize the respective field as _separator=\",\"_). \n"
   ]
  },
  {
   "cell_type": "code",
   "execution_count": 9,
   "metadata": {
    "collapsed": true,
    "nbgrader": {
     "grade": false,
     "grade_id": "cell-6c7e88c196621488",
     "locked": false,
     "schema_version": 1,
     "solution": true
    }
   },
   "outputs": [],
   "source": [
    "import configparser # package for parsing configuration files\n",
    "\n",
    "def load_config_file(dataset_folder):\n",
    "    config_file,data_file = get_conf_data_dir(dataset_folder)\n",
    "    config = configparser.ConfigParser()\n",
    "    config.read(config_file)\n",
    "    dist = {\n",
    "        \"name\":config.get('info','name'),\n",
    "        \"target_index\":config.getint('info','target_index')-1,\n",
    "        \"id_indices\":format_indices(config.get('info','id_indices')),\n",
    "        \"value_indices\":format_indices(config.get('info','value_indices')),\n",
    "        \"categoric_indices\":format_indices(config.get('info','categoric_indices')),\n",
    "        \"separator\":separator_replace(config.get('info','separator')),\n",
    "        \"header_lines\":config.getint('info','header_lines'),\n",
    "        \"config_file\":config_file,\n",
    "        \"folder\":dataset_folder,\n",
    "        \"data_file\":data_file,\n",
    "    }\n",
    "    return dist\n",
    "### \n",
    "### YOUR CODE HERE\n",
    "###\n",
    "\n",
    "def format_indices(indices):\n",
    "    \"\"\"\n",
    "    Transform the indices format\n",
    "    \"\"\"\n",
    "    result=[]\n",
    "    if indices == None or indices=='':\n",
    "        return result\n",
    "    else:\n",
    "        for i in indices.split(','):\n",
    "            result.append(int(i)-1)\n",
    "        return result\n",
    "    \n",
    "def separator_replace(separator):\n",
    "    \"\"\"\n",
    "    Replace the delimiter\n",
    "    \"\"\"\n",
    "    if separator ==  \"\" :\n",
    "        return  \"\\\\s+\"\n",
    "    elif separator == \"comma\":\n",
    "        return \",\"\n",
    "    else:\n",
    "        return \";\"\n",
    "\n",
    "def get_conf_data_dir(data_dir):\n",
    "    \"\"\"\n",
    "    Gets the configuration file path\n",
    "    \"\"\"\n",
    "    config_file=''\n",
    "    data_file=''\n",
    "    data_file_cus=''\n",
    "    data_file_ori=''\n",
    "    files = os.listdir(data_dir)\n",
    "    for item in files:\n",
    "        if item.endswith('ini'):\n",
    "            config_file = data_dir+item\n",
    "        elif item.endswith('custom'):\n",
    "            data_file_cus = data_dir+item\n",
    "        if item.endswith('orig'):\n",
    "            data_file_ori = data_dir+item\n",
    "    if data_file_cus=='':\n",
    "        data_file=data_file_ori\n",
    "    else:\n",
    "        data_file = data_file_cus\n",
    "    return(config_file,data_file)\n",
    "# get_conf_data_dir(\"../resource/asnlib/publicdata/data/acute-inflammations-2/\")\n",
    "# print(os.listdir(\"../resource/asnlib/publicdata/data/acute-inflammations-2/\"))\n",
    "# for folder in datasets_folders[1:]:\n",
    "#     c = load_config_file(public+'data/'+folder+'/')\n",
    "# #     print(c)\n",
    "#     try:\n",
    "#         grade_dictionary(solution, c, 5, 1.4, '%s'%folder)\n",
    "#     except Exception as e:\n",
    "#         s = 'Encountered error while parsing dataset: ' + folder + ';\\n' + str(e)\n",
    "#         raise(Exception(s))"
   ]
  },
  {
   "cell_type": "markdown",
   "metadata": {
    "nbgrader": {
     "grade": false,
     "grade_id": "cell-1b46b5bf5d6af638",
     "locked": true,
     "schema_version": 1,
     "solution": false
    }
   },
   "source": [
    "For example, the for the abalone dataset, your dictionary should contain the following values:"
   ]
  },
  {
   "cell_type": "code",
   "execution_count": 10,
   "metadata": {
    "nbgrader": {
     "grade": false,
     "grade_id": "cell-e874fa0dbf5260fa",
     "locked": true,
     "schema_version": 1,
     "solution": false
    }
   },
   "outputs": [
    {
     "name": "stdout",
     "output_type": "stream",
     "text": [
      "{\r",
      "\r\n",
      "    \"name\": \"abalone.data\",\r",
      "\r\n",
      "    \"target_index\": 8,\r",
      "\r\n",
      "    \"id_indices\": [],\r",
      "\r\n",
      "    \"value_indices\": [\r",
      "\r\n",
      "        0,\r",
      "\r\n",
      "        1,\r",
      "\r\n",
      "        2,\r",
      "\r\n",
      "        3,\r",
      "\r\n",
      "        4,\r",
      "\r\n",
      "        5,\r",
      "\r\n",
      "        6,\r",
      "\r\n",
      "        7\r",
      "\r\n",
      "    ],\r",
      "\r\n",
      "    \"categoric_indices\": [\r",
      "\r\n",
      "        0\r",
      "\r\n",
      "    ],\r",
      "\r\n",
      "    \"separator\": \",\",\r",
      "\r\n",
      "    \"header_lines\": 0,\r",
      "\r\n",
      "    \"config_file\": \"../resource/asnlib/publicdata/data/abalone/config.ini\",\r",
      "\r\n",
      "    \"folder\": \"../resource/asnlib/publicdata/data/abalone/\",\r",
      "\r\n",
      "    \"data_file\": \"../resource/asnlib/publicdata/data/abalone/abalone.data.orig\"\r",
      "\r\n",
      "}"
     ]
    }
   ],
   "source": [
    "f = public+'5_1_4_complete.json'\n",
    "!cat $f"
   ]
  },
  {
   "cell_type": "markdown",
   "metadata": {
    "nbgrader": {
     "grade": false,
     "grade_id": "cell-3f155c57276d3383",
     "locked": true,
     "schema_version": 1,
     "solution": false
    }
   },
   "source": [
    "Note that the corresponding `config.ini` file is the following: "
   ]
  },
  {
   "cell_type": "code",
   "execution_count": 11,
   "metadata": {
    "nbgrader": {
     "grade": false,
     "grade_id": "cell-d43716f8eac480ae",
     "locked": true,
     "schema_version": 1,
     "solution": false
    }
   },
   "outputs": [
    {
     "name": "stdout",
     "output_type": "stream",
     "text": [
      "[info]\r\n",
      "name = abalone.data\r\n",
      "info_url = http://archive.ics.uci.edu/ml/datasets/Abalone\r\n",
      "data_url = http://archive.ics.uci.edu/ml/machine-learning-databases/abalone/abalone.data\r\n",
      "target_index = 9\r\n",
      "id_indices =\r\n",
      "value_indices = 1,2,3,4,5,6,7,8\r\n",
      "categoric_indices = 1\r\n",
      "separator = comma\r\n",
      "header_lines = 0\r\n"
     ]
    }
   ],
   "source": [
    "f = dataset_folder + 'config.ini'\n",
    "!cat $f"
   ]
  },
  {
   "cell_type": "code",
   "execution_count": 12,
   "metadata": {
    "collapsed": true,
    "nbgrader": {
     "grade": true,
     "grade_id": "q3",
     "locked": true,
     "points": 3,
     "schema_version": 1,
     "solution": false
    }
   },
   "outputs": [],
   "source": [
    "#q3\n",
    "\n",
    "# validation code\n",
    "import json\n",
    "dataset_dict1 = load_config_file(dataset_folder)\n",
    "with open(public+'5_1_4_complete.json') as f:\n",
    "    dataset_dict2 = json.load(f)\n",
    "\n",
    "assert(dataset_dict1['name']==dataset_dict2['name'])\n",
    "assert(dataset_dict1['target_index']==dataset_dict2['target_index'])\n",
    "assert(dataset_dict1['id_indices']==dataset_dict2['id_indices'])\n",
    "assert(dataset_dict1['categoric_indices']==dataset_dict2['categoric_indices'])\n",
    "assert(dataset_dict1['separator']==dataset_dict2['separator'])\n",
    "assert(dataset_dict1['header_lines']==dataset_dict2['header_lines'])\n",
    "from filecmp import cmp, dircmp\n",
    "assert(cmp(dataset_dict1['config_file'],dataset_dict2['config_file']))\n",
    "assert(dircmp(dataset_dict1['folder'],dataset_dict2['folder']))\n",
    "assert(cmp(dataset_dict1['data_file'],dataset_dict2['data_file']))"
   ]
  },
  {
   "cell_type": "code",
   "execution_count": 13,
   "metadata": {
    "nbgrader": {
     "grade": true,
     "grade_id": "q4",
     "locked": true,
     "points": 18,
     "schema_version": 1,
     "solution": false
    },
    "scrolled": true
   },
   "outputs": [
    {
     "name": "stdout",
     "output_type": "stream",
     "text": [
      "Success!\n",
      "Success!\n",
      "Success!\n",
      "Success!\n",
      "Success!\n",
      "Success!\n",
      "Success!\n",
      "Success!\n",
      "Success!\n",
      "Success!\n",
      "Success!\n",
      "Success!\n",
      "Success!\n",
      "Success!\n",
      "Success!\n",
      "Success!\n",
      "Success!\n",
      "Success!\n",
      "Success!\n",
      "Success!\n",
      "Success!\n",
      "Success!\n",
      "Success!\n",
      "Success!\n",
      "Success!\n",
      "Success!\n",
      "Success!\n",
      "Success!\n",
      "Success!\n",
      "Success!\n",
      "Success!\n",
      "Success!\n",
      "Success!\n",
      "Success!\n",
      "Success!\n",
      "Success!\n",
      "Success!\n",
      "Success!\n",
      "Success!\n",
      "Success!\n",
      "Success!\n",
      "Success!\n",
      "Success!\n",
      "Success!\n",
      "Success!\n",
      "Success!\n",
      "Success!\n",
      "Success!\n",
      "Success!\n",
      "Success!\n",
      "Success!\n",
      "Success!\n",
      "Success!\n",
      "Success!\n",
      "Success!\n",
      "Success!\n",
      "Success!\n",
      "Success!\n",
      "Success!\n",
      "Success!\n",
      "Success!\n",
      "Success!\n",
      "Success!\n",
      "Success!\n",
      "Success!\n",
      "Success!\n",
      "Success!\n",
      "Success!\n",
      "Success!\n",
      "Success!\n",
      "Success!\n",
      "Success!\n",
      "Success!\n",
      "Success!\n",
      "Success!\n",
      "Success!\n",
      "Success!\n",
      "Success!\n",
      "Success!\n",
      "Success!\n",
      "Success!\n",
      "Success!\n",
      "Success!\n",
      "Success!\n",
      "Success!\n",
      "Success!\n",
      "Success!\n",
      "Success!\n",
      "Success!\n",
      "Success!\n",
      "Success!\n",
      "Success!\n",
      "Success!\n",
      "Success!\n",
      "Success!\n",
      "Success!\n",
      "Success!\n"
     ]
    }
   ],
   "source": [
    "#q4\n",
    "\n",
    "###\n",
    "### AUTOGRADER TEST - DO NOT REMOVE\n",
    "###\n",
    "for folder in datasets_folders[1:]:\n",
    "    c = load_config_file(public+'data/'+folder+'/')\n",
    "    try:\n",
    "        grade_dictionary(solution, c, 5, 1.4, '%s'%folder)\n",
    "    except Exception as e:\n",
    "        s = 'Encountered error while parsing dataset: ' + folder + ';\\n' + str(e)\n",
    "        raise(Exception(s))\n"
   ]
  },
  {
   "cell_type": "markdown",
   "metadata": {
    "nbgrader": {
     "grade": false,
     "grade_id": "cell-c30c5c6d125f947a",
     "locked": true,
     "schema_version": 1,
     "solution": false
    }
   },
   "source": [
    "5.Implement the function `load_data(dataset_dict)` which takes as input the dataset dictionary defined above, and adds a new field whose name is `data_original`. The field holds a dataframe of the corresponding datafile. Remove rows containing missing values (explicit missing values like `np.nan` or those denoted by \"?\" in the data). "
   ]
  },
  {
   "cell_type": "code",
   "execution_count": 14,
   "metadata": {
    "nbgrader": {
     "grade": false,
     "grade_id": "cell-d034d5ddce7f65e2",
     "locked": false,
     "schema_version": 1,
     "solution": true
    },
    "scrolled": true
   },
   "outputs": [
    {
     "data": {
      "text/plain": [
       "{'name': 'thyroid-disease-thyroid-0387.data',\n",
       " 'target_index': 29,\n",
       " 'id_indices': [30],\n",
       " 'value_indices': [0,\n",
       "  1,\n",
       "  2,\n",
       "  3,\n",
       "  4,\n",
       "  5,\n",
       "  6,\n",
       "  7,\n",
       "  8,\n",
       "  9,\n",
       "  10,\n",
       "  11,\n",
       "  12,\n",
       "  13,\n",
       "  14,\n",
       "  15,\n",
       "  16,\n",
       "  17,\n",
       "  18,\n",
       "  19,\n",
       "  20,\n",
       "  21,\n",
       "  22,\n",
       "  23,\n",
       "  24,\n",
       "  25,\n",
       "  26,\n",
       "  27,\n",
       "  28],\n",
       " 'categoric_indices': [1,\n",
       "  2,\n",
       "  3,\n",
       "  4,\n",
       "  5,\n",
       "  6,\n",
       "  7,\n",
       "  8,\n",
       "  9,\n",
       "  10,\n",
       "  11,\n",
       "  12,\n",
       "  13,\n",
       "  14,\n",
       "  15,\n",
       "  16,\n",
       "  18,\n",
       "  20,\n",
       "  22,\n",
       "  24,\n",
       "  26,\n",
       "  28],\n",
       " 'separator': ',',\n",
       " 'header_lines': 0,\n",
       " 'config_file': '../resource/asnlib/publicdata/data/thyroid-disease-thyroid-0387/config.ini',\n",
       " 'folder': '../resource/asnlib/publicdata/data/thyroid-disease-thyroid-0387/',\n",
       " 'data_file': '../resource/asnlib/publicdata/data/thyroid-disease-thyroid-0387/thyroid-disease-thyroid-0387.data.orig.custom',\n",
       " 'data_original':       0  1  2  3  4  5  6  7  8  9     ...         21 22    23 24   25 26  27  \\\n",
       " 167   40  F  f  f  f  f  f  f  f  f    ...        3.9  t  0.83  t    5  t  28   \n",
       " 5256  35  F  f  f  f  f  f  t  f  f    ...       73.0  t  1.16  t   63  t  37   \n",
       " 6044  77  F  f  f  f  f  f  f  f  f    ...      120.0  t  0.96  t  124  t  45   \n",
       " 6045  73  M  f  f  f  f  f  f  f  f    ...       89.0  t  0.74  t  119  t  24   \n",
       " 6747  77  F  f  f  f  f  f  f  f  f    ...      131.0  t  1.04  t  126  t  25   \n",
       " 6773  74  F  f  f  f  f  f  f  f  f    ...      116.0  t  0.81  t  143  t  22   \n",
       " 6862  60  M  f  f  f  f  f  f  f  f    ...       92.0  t  0.84  t  110  t  21   \n",
       " 6863  66  F  f  f  f  f  f  f  f  f    ...      138.0  t  0.80  t  173  t  15   \n",
       " 6880  42  F  f  f  f  f  f  f  f  f    ...      106.0  t  0.98  t  108  t  27   \n",
       " 6934  29  F  f  f  f  f  f  f  f  f    ...      122.0  t  1.14  t  107  t  36   \n",
       " 7097  35  M  f  f  f  f  f  f  f  f    ...       97.0  t  0.85  t  114  t  30   \n",
       " 7101  44  F  f  f  f  f  f  f  f  f    ...      135.0  t  1.01  t  135  t  32   \n",
       " 7103  78  F  f  f  f  f  f  f  f  f    ...      120.0  t  0.96  t  125  t  35   \n",
       " 7190  28  F  f  f  f  f  f  f  f  f    ...       75.0  t  0.82  t   92  t  21   \n",
       " 7239  58  M  f  f  f  f  f  f  f  f    ...      161.0  t  1.27  t  127  t  86   \n",
       " 7254  46  F  f  f  f  f  f  f  f  f    ...      116.0  t  0.80  t  145  t  22   \n",
       " 7356  97  M  f  f  f  f  f  f  f  f    ...       93.0  t  0.89  t  104  t  29   \n",
       " 7591  57  F  f  f  f  f  f  f  f  f    ...      110.0  t  0.88  t  125  t  26   \n",
       " 7733  60  F  f  f  f  f  f  f  f  f    ...      139.0  t  1.09  t  128  t  21   \n",
       " 8116  24  F  t  f  f  f  f  f  f  f    ...      176.0  t  1.07  t  164  t  28   \n",
       " \n",
       "          28 29         30  \n",
       " 167   other  F  840827019  \n",
       " 5256  other  -  851128040  \n",
       " 6044    SVI  -  860305064  \n",
       " 6045    SVI  -  860305065  \n",
       " 6747    SVI  K  860702030  \n",
       " 6773    SVI  -  860703046  \n",
       " 6862  other  -  860710043  \n",
       " 6863    SVI  -  860710044  \n",
       " 6880  other  -  860711039  \n",
       " 6934    SVI  -  860717007  \n",
       " 7097    SVI  -  860729023  \n",
       " 7101    SVI  -  860729072  \n",
       " 7103    SVI  -  860729075  \n",
       " 7190    SVI  -  860805027  \n",
       " 7239    SVI  I  860807059  \n",
       " 7254    SVI  -  860808041  \n",
       " 7356    SVI  -  860815049  \n",
       " 7591  other  -  860902004  \n",
       " 7733    SVI  G  860912032  \n",
       " 8116  other  N  861015018  \n",
       " \n",
       " [20 rows x 31 columns]}"
      ]
     },
     "execution_count": 14,
     "metadata": {},
     "output_type": "execute_result"
    }
   ],
   "source": [
    "def load_data(dataset_dict):\n",
    "    '''\n",
    "    import chardet\n",
    "    pd.set_option('display.max_columns', None)\n",
    "    pd.set_option('display.max_rows', None)\n",
    "    pd.set_option('max_colwidth',100)   \n",
    "    df = pd.read_csv(dataset_dict['data_file'],header=None,sep=dataset_dict['separator'])\n",
    "    clean_df = df.replace(to_replace='\\\\u003F',value=np.nan,regex=True)\n",
    "    #df.replace(to_replace=r\"-\",value=np.nan,regex=True,inplace=True)\n",
    "    dataset_dict[\"data_original\"]=clean_df.dropna()\n",
    "    '''\n",
    "    data = None\n",
    "    filename = dataset_dict['data_file']\n",
    "    sep = dataset_dict['separator']\n",
    "    skiprows = dataset_dict['header_lines']\n",
    "    data = pd.read_csv(filename,sep=sep,header=None,skiprows=skiprows)\n",
    "    #remove ? and nan\n",
    "    for i in range(data.shape[1]):\n",
    "        data = data[~data[i].isin(['?'])]\n",
    "    data = data.dropna()\n",
    "    #convert to numeric\n",
    "    data = data.apply(pd.to_numeric,errors='ignore')\n",
    "    dataset_dict['data_original'] = data\n",
    "    return dataset_dict\n",
    "\n",
    "###\n",
    "### YOUR CODE HERE\n",
    "###\n",
    "\n",
    "fold=\"../resource/asnlib/publicdata/data/thyroid-disease-thyroid-0387/\"\n",
    "load_data(load_config_file(fold))"
   ]
  },
  {
   "cell_type": "markdown",
   "metadata": {
    "nbgrader": {
     "grade": false,
     "grade_id": "cell-b57f86987f9f385e",
     "locked": true,
     "schema_version": 1,
     "solution": false
    }
   },
   "source": [
    "For example, here are the first 5 rows in the parsed dataset `abalone`"
   ]
  },
  {
   "cell_type": "markdown",
   "metadata": {
    "nbgrader": {
     "grade": false,
     "grade_id": "cell-b5f7b26e8414fc34",
     "locked": true,
     "schema_version": 1,
     "solution": false
    }
   },
   "source": [
    "display_example(public, 5, 1.5, 'abalone')"
   ]
  },
  {
   "cell_type": "code",
   "execution_count": 15,
   "metadata": {
    "nbgrader": {
     "grade": true,
     "grade_id": "q5",
     "locked": true,
     "points": 18,
     "schema_version": 1,
     "solution": false
    }
   },
   "outputs": [
    {
     "name": "stdout",
     "output_type": "stream",
     "text": [
      "Loading thyroid-disease-thyroid-0387 ...\n",
      "Success!\n",
      "Loading post-operative-patient ...\n",
      "Success!\n",
      "Loading nursery ...\n",
      "Success!\n",
      "Loading skin-segmentation ...\n",
      "Success!\n",
      "Loading zoo ...\n",
      "Success!\n",
      "Loading ozone-level-detection-eight ...\n",
      "Success!\n",
      "Loading mammographic-mass ...\n",
      "Success!\n",
      "Loading heart-disease-cleveland ...\n",
      "Success!\n",
      "Loading balloons-a ...\n",
      "Success!\n",
      "Loading blood-transfusion-service-center ...\n",
      "Success!\n",
      "Loading thyroid-disease-new-thyroid ...\n",
      "Success!\n",
      "Loading mushroom ...\n",
      "Success!\n",
      "Loading wall-following-robot-navigation-24 ...\n",
      "Success!\n",
      "Loading breast-cancer-wisconsin-prognostic ...\n",
      "Success!\n",
      "Loading pima-indians-diabetes ...\n",
      "Success!\n",
      "Loading arrhythmia ...\n",
      "Success!\n",
      "Loading balloons-d ...\n",
      "Success!\n",
      "Loading ecoli ...\n",
      "Success!\n",
      "Loading teaching-assistant-evaluation ...\n",
      "Success!\n",
      "Loading balance-scale ...\n",
      "Success!\n",
      "Loading wine ...\n",
      "Success!\n",
      "Loading acute-inflammations-1 ...\n",
      "Success!\n",
      "Loading monks-problems-3 ...\n",
      "Success!\n",
      "Loading wall-following-robot-navigation-4 ...\n",
      "Success!\n",
      "Loading car-evaluation ...\n",
      "Success!\n",
      "Loading credit-approval ...\n",
      "Success!\n",
      "Loading horse-colic ...\n",
      "Success!\n",
      "Loading breast-cancer-wisconsin-original ...\n",
      "Success!\n",
      "Loading qsar-biodegradation ...\n",
      "Success!\n",
      "Loading fertility ...\n",
      "Success!\n",
      "Loading echocardiogram ...\n",
      "Success!\n",
      "Loading thyroid-disease-ann-thyroid ...\n",
      "Success!\n",
      "Loading thyroid-disease-sick ...\n",
      "Success!\n",
      "Loading connectionist-bench ...\n",
      "Success!\n",
      "Loading abalone ...\n",
      "Success!\n",
      "Loading lenses ...\n",
      "Success!\n",
      "Loading statlog-project-landsat-satellite ...\n",
      "Success!\n",
      "Loading banknote-authentication ...\n",
      "Success!\n",
      "Loading thoracic-surgery ...\n",
      "Success!\n",
      "Loading heart-disease-switzerland ...\n",
      "Success!\n",
      "Loading glass-identification ...\n",
      "Success!\n",
      "Loading acute-inflammations-2 ...\n",
      "Success!\n",
      "Loading chess-king-rook-vs-king-pawn ...\n",
      "Success!\n",
      "Loading monks-problems-2 ...\n",
      "Success!\n",
      "Loading heart-disease-hungarian ...\n",
      "Success!\n",
      "Loading statlog-project-german-credit ...\n",
      "Success!\n",
      "Loading hill-valley ...\n",
      "Success!\n",
      "Loading image-segmentation ...\n",
      "Success!\n",
      "Loading balloons-b ...\n",
      "Success!\n",
      "Loading congressional-voting-records ...\n",
      "Success!\n",
      "Loading dermatology ...\n",
      "Success!\n",
      "Loading parkinsons ...\n",
      "Success!\n",
      "Loading connectionist-bench-sonar ...\n",
      "Success!\n",
      "Loading contraceptive-method-choice ...\n",
      "Success!\n",
      "Loading thyroid-disease-allbp ...\n",
      "Success!\n",
      "Loading yeast ...\n",
      "Success!\n",
      "Loading ionosphere ...\n",
      "Success!\n",
      "Loading tic-tac-toe-endgame ...\n",
      "Success!\n",
      "Loading seeds ...\n",
      "Success!\n",
      "Loading pen-based-recognition-handwritten-digits ...\n",
      "Success!\n",
      "Loading spectf-heart ...\n",
      "Success!\n",
      "Loading chess-king-rook-vs-king ...\n",
      "Success!\n",
      "Loading wall-following-robot-navigation-2 ...\n",
      "Success!\n",
      "Loading balloons-c ...\n",
      "Success!\n",
      "Loading optical-recognition-handwritten-digits ...\n",
      "Success!\n",
      "Loading climate-model-simulation-crashes ...\n",
      "Success!\n",
      "Loading indian-liver-patient ...\n",
      "Success!\n",
      "Loading cylinder-bands ...\n",
      "Success!\n",
      "Loading hayes-roth ...\n",
      "Success!\n",
      "Loading seismic-bumps ...\n",
      "Success!\n",
      "Loading iris ...\n",
      "Success!\n",
      "Loading thyroid-disease-sick-euthyroid ...\n",
      "Success!\n",
      "Loading cnae-9 ...\n",
      "Success!\n",
      "Loading lung-cancer ...\n",
      "Success!\n",
      "Loading heart-disease-va ...\n",
      "Success!\n",
      "Loading haberman-survival ...\n",
      "Success!\n",
      "Loading hepatitis ...\n",
      "Success!\n",
      "Loading libras-movement ...\n",
      "Success!\n",
      "Loading trains ...\n",
      "Success!\n",
      "Loading poker-hand ...\n",
      "Success!\n",
      "Loading magic-gamma-telescope ...\n",
      "Success!\n",
      "Loading flags ...\n",
      "Success!\n",
      "Loading shuttle-landing-control ...\n",
      "Success!\n",
      "Loading letter-recognition ...\n",
      "Success!\n",
      "Loading spect-heart ...\n",
      "Success!\n",
      "Loading spambase ...\n",
      "Success!\n",
      "Loading breast-cancer-wisconsin-diagnostic ...\n",
      "Success!\n",
      "Loading thyroid-disease-allhypo ...\n",
      "Success!\n",
      "Loading monks-problems-1 ...\n",
      "Success!\n",
      "Loading hill-valley-noise ...\n",
      "Success!\n",
      "Loading thyroid-disease-allhyper ...\n",
      "Success!\n",
      "Loading thyroid-disease-dis ...\n",
      "Success!\n",
      "Loading ozone-level-detection-one ...\n",
      "Success!\n",
      "Loading weight-lifting-exercises ...\n",
      "Success!\n",
      "Loading thyroid-disease-allrep ...\n",
      "Success!\n",
      "Loading soybean-small ...\n",
      "Success!\n",
      "Loading planning-relax ...\n",
      "Success!\n",
      "Loading soybean-large ...\n",
      "Success!\n"
     ]
    }
   ],
   "source": [
    "#q5\n",
    "\n",
    "###\n",
    "### AUTOGRADER TEST - DO NOT REMOVE\n",
    "###\n",
    "for folder in datasets_folders:\n",
    "    dataset_dict = load_config_file(public+'data/'+folder+'/')\n",
    "    load_data(dataset_dict)    \n",
    "    try:\n",
    "        print('Loading',folder,'...')\n",
    "        grade_dataframe(solution, dataset_dict['data_original'], 5, 1.5, '%s'%folder)\n",
    "    except Exception as e:\n",
    "        print('Encountered error while parsing dataset',folder,'; expected')\n",
    "        display_example(public, 5, 1.5, '%s'%folder)\n",
    "        raise(e)\n",
    "    \n",
    "    \n",
    "    \n"
   ]
  },
  {
   "cell_type": "markdown",
   "metadata": {
    "nbgrader": {
     "grade": false,
     "grade_id": "cell-ca1d7e0112a47056",
     "locked": true,
     "schema_version": 1,
     "solution": false
    }
   },
   "source": [
    "6.Implement the function `collect_stats(dataset_dict)` which takes as input a dataset loaded into a dictionary (as specified above), and returns a dictionary whose keys are: 'Name','n','p','p_cat','k'. The corresponding values contain the name of the dataset, the number of observations, number of features, number of categorical features, and the number of classes in each dataset. "
   ]
  },
  {
   "cell_type": "code",
   "execution_count": 16,
   "metadata": {
    "collapsed": true,
    "nbgrader": {
     "grade": false,
     "grade_id": "cell-d1ae22de31496122",
     "locked": false,
     "schema_version": 1,
     "solution": true
    }
   },
   "outputs": [],
   "source": [
    "def collect_stats(dataset_dict):\n",
    "    stats={}\n",
    "    df = dataset_dict[\"data_original\"]\n",
    "    stats[\"Name\"]=dataset_dict[\"name\"]\n",
    "    stats['n']=df.shape[0]\n",
    "    stats['p']=np.size(dataset_dict['value_indices'])\n",
    "    stats['p_cat'] = np.size(dataset_dict['categoric_indices'])\n",
    "    datatmp = df[dataset_dict['target_index']]\n",
    "    count_list = []\n",
    "    for i in datatmp:\n",
    "        count_list.append(i)\n",
    "    stats['k'] = len(set(count_list))\n",
    "#     stats['k']=df[]\n",
    "   # print(stats)\n",
    "    return stats\n",
    "# fold=\"../resource/asnlib/publicdata/data/thyroid-disease-thyroid-0387/\"\n",
    "# collect_stats(load_data(load_config_file(fold)))\n",
    "###\n",
    "### YOUR CODE HERE\n",
    "###"
   ]
  },
  {
   "cell_type": "markdown",
   "metadata": {
    "nbgrader": {
     "grade": false,
     "grade_id": "cell-c989235973bf5ac7",
     "locked": true,
     "schema_version": 1,
     "solution": false
    }
   },
   "source": [
    "For example, for the `abalone` dataset the following statistics are collected:"
   ]
  },
  {
   "cell_type": "code",
   "execution_count": 17,
   "metadata": {
    "nbgrader": {
     "grade": false,
     "grade_id": "cell-20604bfacb3c8f6e",
     "locked": true,
     "schema_version": 1,
     "solution": false
    }
   },
   "outputs": [
    {
     "name": "stdout",
     "output_type": "stream",
     "text": [
      "{\r",
      "\r\n",
      "    \"Name\": \"abalone.data\",\r",
      "\r\n",
      "    \"n\": 4177,\r",
      "\r\n",
      "    \"p\": 8,\r",
      "\r\n",
      "    \"p_cat\": 1,\r",
      "\r\n",
      "    \"k\": 28\r",
      "\r\n",
      "}"
     ]
    }
   ],
   "source": [
    "f = public + '5_1.6_abalone_complete.json'\n",
    "!cat $f"
   ]
  },
  {
   "cell_type": "markdown",
   "metadata": {
    "nbgrader": {
     "grade": false,
     "grade_id": "cell-f50b3d4c47ec6623",
     "locked": true,
     "schema_version": 1,
     "solution": false
    }
   },
   "source": [
    "Use the function `collect_stats` to collect statisticis on the datasets whose names (as appear in the config.ini file; e.g. `breast-cancer-wisconsin.data` is the name of the file located in the folder `breast-cancer-wisconsin-original`) appear in the file `datasets_selection` (included in the pubilc folder). Save these as the dataframe `df_stats` (the rest of the datasets define regression problems but we will focus on classification problems in this assignment).\n",
    "\n",
    "Initialize the variable `classification_folders` to a list that holds the __folder names__ of the classification problems. For example, the first row in `datasets_selection` contains the name `acute-inflammations-1.data`, which is located in the folder `data/acute-inflammations-1`. The first element in the list `classification_folders` should be `acute-inflammations-1`."
   ]
  },
  {
   "cell_type": "code",
   "execution_count": 18,
   "metadata": {
    "nbgrader": {
     "grade": false,
     "grade_id": "cell-7821f74e8276e80e",
     "locked": false,
     "schema_version": 1,
     "solution": true
    }
   },
   "outputs": [
    {
     "data": {
      "text/plain": [
       "\"\\n# get classification_folders\\nfor item in df[0]:\\n    classification_folders.append(public_folder%(item.split('.')[0]))\\n\\n# get df_stats\\nfor item in classification_folders:\\n    if os.path.exists(item):\\n        dataset_dict = load_data(load_config_file(item))\\n        stats = collect_stats(dataset_dict)\\n        df_stats.append([stats], ignore_index=True)\\n###\\n### YOUR CODE HERE\\n###\\n\""
      ]
     },
     "execution_count": 18,
     "metadata": {},
     "output_type": "execute_result"
    }
   ],
   "source": [
    "df_stats = None#pd.DataFrame(columns = [\"Name\", \"k\", \"n\", \"p\",\"p_cat\"])\n",
    "classification_folders = []\n",
    "\n",
    "classification_folders = open(os.path.join(public,'datasets_selection'),'r').readlines()\n",
    "classification_folders = [k.replace('.data','').replace('\\n','') for k in classification_folders]\n",
    "\n",
    "classification_folders[classification_folders.index('breast-cancer-wisconsin')] = 'breast-cancer-wisconsin-original'\n",
    "\n",
    "df_stats_dict = {'Name':[],'k':[],'n':[],'p':[],'p_cat':[]}\n",
    "for cf in classification_folders:\n",
    "    tmp = load_config_file(os.path.join(public,'data',cf)+'/')\n",
    "    tmp = load_data(tmp)\n",
    "    tmp = collect_stats(tmp)\n",
    "    df_stats_dict['Name'].append(tmp['Name'])\n",
    "    df_stats_dict['n'].append(tmp['n'])\n",
    "    df_stats_dict['p'].append(tmp['p'])\n",
    "    df_stats_dict['k'].append(tmp['k'])\n",
    "    df_stats_dict['p_cat'].append(tmp['p_cat'])\n",
    "df_stats = pd.DataFrame(df_stats_dict)\n",
    "'''\n",
    "# get classification_folders\n",
    "for item in df[0]:\n",
    "    classification_folders.append(public_folder%(item.split('.')[0]))\n",
    "\n",
    "# get df_stats\n",
    "for item in classification_folders:\n",
    "    if os.path.exists(item):\n",
    "        dataset_dict = load_data(load_config_file(item))\n",
    "        stats = collect_stats(dataset_dict)\n",
    "        df_stats.append([stats], ignore_index=True)\n",
    "###\n",
    "### YOUR CODE HERE\n",
    "###\n",
    "'''"
   ]
  },
  {
   "cell_type": "markdown",
   "metadata": {
    "nbgrader": {
     "grade": false,
     "grade_id": "cell-2feb89303d5ce24b",
     "locked": true,
     "schema_version": 1,
     "solution": false
    }
   },
   "source": [
    "For example, the first 3 classification datasets are: 'acute-inflammations-1',\n",
    " 'acute-inflammations-2', and 'balance-scale'\n",
    "\n",
    "The first few rows in the table `df_stats` are presented below"
   ]
  },
  {
   "cell_type": "code",
   "execution_count": 19,
   "metadata": {
    "nbgrader": {
     "grade": false,
     "grade_id": "cell-447efdb0f67fa264",
     "locked": true,
     "schema_version": 1,
     "solution": false
    }
   },
   "outputs": [
    {
     "name": "stdout",
     "output_type": "stream",
     "text": [
      "                                    Name  k     n  p  p_cat\n",
      "0             acute-inflammations-1.data  2   120  6      5\n",
      "1             acute-inflammations-2.data  2   120  6      5\n",
      "2                     balance-scale.data  3   625  4      0\n",
      "3           banknote-authentication.data  2  1372  4      0\n",
      "4  blood-transfusion-service-center.data  2   748  4      0\n"
     ]
    }
   ],
   "source": [
    "display_example(public, 5, 1, 6)"
   ]
  },
  {
   "cell_type": "code",
   "execution_count": 20,
   "metadata": {
    "collapsed": true,
    "nbgrader": {
     "grade": true,
     "grade_id": "q6",
     "locked": true,
     "points": 4,
     "schema_version": 1,
     "solution": false
    }
   },
   "outputs": [],
   "source": [
    "#q6\n",
    "\n",
    "###\n",
    "### AUTOGRADER TEST - DO NOT REMOVE\n",
    "###\n"
   ]
  },
  {
   "cell_type": "code",
   "execution_count": 40,
   "metadata": {
    "nbgrader": {
     "grade": true,
     "grade_id": "q7",
     "locked": true,
     "points": 8,
     "schema_version": 1,
     "solution": false
    },
    "scrolled": true
   },
   "outputs": [
    {
     "name": "stdout",
     "output_type": "stream",
     "text": [
      "Success!\n"
     ]
    }
   ],
   "source": [
    "#q7\n",
    "\n",
    "###\n",
    "### AUTOGRADER TEST - DO NOT REMOVE\n",
    "###\n",
    "grade_dataframe(solution, df_stats, 5, 1, 6, sort_cols=['Name'])\n"
   ]
  },
  {
   "cell_type": "code",
   "execution_count": null,
   "metadata": {
    "collapsed": true
   },
   "outputs": [],
   "source": []
  }
 ],
 "metadata": {
  "celltoolbar": "Create Assignment",
  "kernelspec": {
   "display_name": "Python 3",
   "language": "python",
   "name": "python3"
  },
  "language_info": {
   "codemirror_mode": {
    "name": "ipython",
    "version": 3
   },
   "file_extension": ".py",
   "mimetype": "text/x-python",
   "name": "python",
   "nbconvert_exporter": "python",
   "pygments_lexer": "ipython3",
   "version": "3.6.5"
  },
  "toc": {
   "base_numbering": 1,
   "nav_menu": [],
   "number_sections": false,
   "sideBar": false,
   "skip_h1_title": false,
   "title_cell": "Table of Contents",
   "title_sidebar": "Contents",
   "toc_cell": false,
   "toc_position": [],
   "toc_section_display": false,
   "toc_window_display": false
  }
 },
 "nbformat": 4,
 "nbformat_minor": 2
}
