{
 "cells": [
  {
   "cell_type": "markdown",
   "metadata": {
    "nbgrader": {
     "grade": false,
     "grade_id": "cell-b40cb6fa92a00e77",
     "locked": true,
     "schema_version": 1,
     "solution": false
    }
   },
   "source": [
    "# Homework 2: Python Programming II, IPython, OS Shell\n",
    "<h2>Predictive Analytics using Python</h2>\n",
    "<h3>Simon Business School</h3>\n",
    "\n",
    "__Instructor__: Yaron Shaposhnik\n",
    "\n",
    "Most of the questions below are based on the practice projects in the book \"Automate the Boring Stuff with Python\" by Al Swigart ([link](https://automatetheboringstuff.com/)).\n",
    "\n",
    "1. Answer each question in the following cell.\n",
    "4. __Click \"Submit\" to submit and execute the automatic grading__ (without this step the submission will not be recorded). \n",
    "5. You may submit multiple solutions but your last submission will determine your grade.\n",
    "6. You may save the notebook and resume the work later.\n",
    "7. __Refrain from adding any identifiable information to the notebook__. The notebook may be made public.  \n"
   ]
  },
  {
   "cell_type": "code",
   "execution_count": 1,
   "metadata": {
    "nbgrader": {
     "grade": false,
     "grade_id": "cell-36dce185bf1b7460",
     "locked": true,
     "schema_version": 1,
     "solution": false
    }
   },
   "outputs": [
    {
     "name": "stdout",
     "output_type": "stream",
     "text": [
      "code.py\t\t       mystery.txt  novel_encoded_solution.txt\r\n",
      "CrimeStatebyState.csv  novel2.txt   novel.txt\r\n"
     ]
    }
   ],
   "source": [
    "# the variable `public` contains the location of a folder containing files we will use in this exercise\n",
    "public = \"../resource/asnlib/publicdata/\"\n",
    "!ls $public"
   ]
  },
  {
   "cell_type": "code",
   "execution_count": 2,
   "metadata": {
    "nbgrader": {
     "grade": false,
     "grade_id": "cell-ae8f96962b9eebb6",
     "locked": true,
     "schema_version": 1,
     "solution": false
    }
   },
   "outputs": [
    {
     "name": "stdout",
     "output_type": "stream",
     "text": [
      "﻿The Project Gutenberg EBook of A Christmas Carol, by Charles Dickens\r",
      "\r\n"
     ]
    }
   ],
   "source": [
    "# example 1\n",
    "f = public + 'novel.txt'\n",
    "!head -1 $f"
   ]
  },
  {
   "cell_type": "code",
   "execution_count": 3,
   "metadata": {
    "nbgrader": {
     "grade": false,
     "grade_id": "cell-213d2fef6c552b85",
     "locked": true,
     "schema_version": 1,
     "solution": false
    }
   },
   "outputs": [
    {
     "name": "stdout",
     "output_type": "stream",
     "text": [
      "﻿The Project Gutenberg EBook of A Christmas Carol, by Charles Dickens\n",
      "\n"
     ]
    }
   ],
   "source": [
    "# example 2\n",
    "with open(f,'r',encoding='utf-8') as f1:\n",
    "    print(f1.readline())"
   ]
  },
  {
   "cell_type": "code",
   "execution_count": 4,
   "metadata": {
    "collapsed": true,
    "nbgrader": {
     "grade": true,
     "grade_id": "cell-7138725d6ee36573",
     "locked": true,
     "points": 0,
     "schema_version": 1,
     "solution": false
    }
   },
   "outputs": [],
   "source": [
    "#\n",
    "# AUTOGRADER TEST - DO NOT REMOVE\n",
    "#\n"
   ]
  },
  {
   "cell_type": "markdown",
   "metadata": {
    "nbgrader": {
     "grade": false,
     "grade_id": "cell-70158b297c45dd12",
     "locked": true,
     "schema_version": 1,
     "solution": false
    }
   },
   "source": [
    "## Part 1: Python programming"
   ]
  },
  {
   "cell_type": "markdown",
   "metadata": {
    "nbgrader": {
     "grade": false,
     "grade_id": "cell-337a0e5ad7c9ca23",
     "locked": true,
     "schema_version": 1,
     "solution": false
    }
   },
   "source": [
    "### 1. The Collatz Sequence\n",
    "Write a function named collatz() that has one parameter named number. If number is even, then collatz() should print number // 2 and return this value. If number is odd, then collatz() should print and return 3 * number + 1.\n",
    "\n",
    "Then write the function collatz_sequence() that has one parameter named number and that keeps calling collatz() on that number until the function collatz returns the value 1. (Amazingly enough, this sequence actually works for any integer—sooner or later, using this sequence, you’ll arrive at 1! Even mathematicians aren’t sure why. Your program is exploring what’s called the Collatz sequence, sometimes called “the simplest impossible math problem.”). The function collatz_sequence() should print the resulting sequence and return a list containing the values of  the sequence.\n",
    "\n",
    "Hint: An integer number is even if number % 2 == 0, and it’s odd if number % 2 == 1.\n",
    "\n",
    "For example, running the command \"collatz_sequence(10)\" should return the list [5, 16, 8, 4, 2, 1] and print the values\n",
    "\n",
    "5<br>\n",
    "16<br>\n",
    "8<br>\n",
    "4<br>\n",
    "2<br>\n",
    "1\n"
   ]
  },
  {
   "cell_type": "code",
   "execution_count": 6,
   "metadata": {
    "nbgrader": {
     "grade": false,
     "grade_id": "cell-71ecdf3f68a57b0f",
     "locked": false,
     "schema_version": 1,
     "solution": true
    }
   },
   "outputs": [],
   "source": [
    "def collatz(number):\n",
    "    #\n",
    "    # YOUR CODE HERE\n",
    "    #\n",
    "    if number%2==0:\n",
    "        print(number//2)\n",
    "        return number//2\n",
    "    else:\n",
    "        print(3*number+1)\n",
    "        return 3*number+1\n",
    "        "
   ]
  },
  {
   "cell_type": "code",
   "execution_count": 79,
   "metadata": {
    "nbgrader": {
     "grade": false,
     "grade_id": "cell-32116cce9bb0d237",
     "locked": true,
     "schema_version": 1,
     "solution": false
    }
   },
   "outputs": [
    {
     "name": "stdout",
     "output_type": "stream",
     "text": [
      "10\n",
      "1\n"
     ]
    }
   ],
   "source": [
    "# validation\n",
    "assert( collatz(3)==10)\n",
    "assert( collatz(2)==1)"
   ]
  },
  {
   "cell_type": "code",
   "execution_count": null,
   "metadata": {
    "collapsed": true,
    "nbgrader": {
     "grade": true,
     "grade_id": "q1",
     "locked": true,
     "points": 7,
     "schema_version": 1,
     "solution": false
    }
   },
   "outputs": [],
   "source": [
    "# Question q1\n",
    "#\n",
    "# AUTOGRADER TEST - DO NOT REMOVE\n",
    "#\n"
   ]
  },
  {
   "cell_type": "code",
   "execution_count": 29,
   "metadata": {
    "collapsed": true,
    "nbgrader": {
     "grade": false,
     "grade_id": "cell-6bdb52802dd55802",
     "locked": false,
     "schema_version": 1,
     "solution": true
    }
   },
   "outputs": [],
   "source": [
    "def collatz_sequence(number):\n",
    "    #\n",
    "    # YOUR CODE HERE\n",
    "    #\n",
    "    re=[]\n",
    "    while True:\n",
    "        number = collatz(number)\n",
    "        re.append(number)\n",
    "        if number==1:\n",
    "            break\n",
    "    return list(re)\n",
    "        \n",
    "        "
   ]
  },
  {
   "cell_type": "code",
   "execution_count": 31,
   "metadata": {
    "nbgrader": {
     "grade": false,
     "grade_id": "cell-534aa22bc6e13a35",
     "locked": true,
     "schema_version": 1,
     "solution": false
    }
   },
   "outputs": [
    {
     "name": "stdout",
     "output_type": "stream",
     "text": [
      "5\n",
      "16\n",
      "8\n",
      "4\n",
      "2\n",
      "1\n"
     ]
    }
   ],
   "source": [
    "# validation\n",
    "assert(collatz_sequence(10)==[5, 16, 8, 4, 2, 1])"
   ]
  },
  {
   "cell_type": "code",
   "execution_count": null,
   "metadata": {
    "collapsed": true,
    "nbgrader": {
     "grade": true,
     "grade_id": "q2",
     "locked": true,
     "points": 7,
     "schema_version": 1,
     "solution": false
    }
   },
   "outputs": [],
   "source": [
    "# Question q2\n",
    "#\n",
    "# AUTOGRADER TEST - DO NOT REMOVE\n",
    "#\n"
   ]
  },
  {
   "cell_type": "markdown",
   "metadata": {
    "nbgrader": {
     "grade": false,
     "grade_id": "cell-51fe8c0210716438",
     "locked": true,
     "schema_version": 1,
     "solution": false
    }
   },
   "source": [
    "### 2. Input Validation\n",
    "Implement the function is_number() that returns True if the input is a number and otherwise returns False.\n",
    "\n",
    "Hint: You may use try and except statements to detect whether the user types in a noninteger string. Normally, the int() function will raise a ValueError error if it is passed a noninteger string, as in int('puppy'). \n"
   ]
  },
  {
   "cell_type": "code",
   "execution_count": 46,
   "metadata": {
    "nbgrader": {
     "grade": false,
     "grade_id": "cell-46b9348aca9180db",
     "locked": false,
     "schema_version": 1,
     "solution": true
    }
   },
   "outputs": [],
   "source": [
    "def is_number(number):\n",
    "    #\n",
    "    # YOUR CODE HERE\n",
    "    #\n",
    "    try:\n",
    "        f = int(number)\n",
    "    except ValueError:\n",
    "        return False\n",
    "    if type(f)==int:\n",
    "        return True\n",
    "\n",
    "\n"
   ]
  },
  {
   "cell_type": "code",
   "execution_count": 80,
   "metadata": {
    "nbgrader": {
     "grade": false,
     "grade_id": "cell-6bef7a88a826de38",
     "locked": true,
     "schema_version": 1,
     "solution": false
    }
   },
   "outputs": [],
   "source": [
    "# validation\n",
    "assert(is_number(7)==True)\n",
    "assert(is_number(7.0)==True)\n",
    "assert(is_number('7')==True)\n",
    "assert(is_number('puppy')==False)"
   ]
  },
  {
   "cell_type": "code",
   "execution_count": null,
   "metadata": {
    "collapsed": true,
    "nbgrader": {
     "grade": true,
     "grade_id": "q3",
     "locked": true,
     "points": 7,
     "schema_version": 1,
     "solution": false
    }
   },
   "outputs": [],
   "source": [
    "# Question q3\n",
    "#\n",
    "# AUTOGRADER TEST - DO NOT REMOVE\n",
    "#\n"
   ]
  },
  {
   "cell_type": "markdown",
   "metadata": {
    "nbgrader": {
     "grade": false,
     "grade_id": "cell-f46b60a5b8f0c29c",
     "locked": true,
     "schema_version": 1,
     "solution": false
    }
   },
   "source": [
    "### 3. Comma Code\n",
    "Say you have a list value like this:\n",
    "\n",
    "\n",
    "spam = ['apples', 'bananas', 'tofu', 'cats']\n",
    "Write a function that takes a list value as an argument and returns a string with all the items separated by a comma and a space, with and inserted before the last item. For example, passing the previous spam list to the function would return 'apples, bananas, tofu, and cats'. But your function should be able to work with any list value passed to it.\n",
    "\n"
   ]
  },
  {
   "cell_type": "code",
   "execution_count": 73,
   "metadata": {
    "nbgrader": {
     "grade": false,
     "grade_id": "cell-887e64204396eb37",
     "locked": false,
     "schema_version": 1,
     "solution": true
    }
   },
   "outputs": [],
   "source": [
    "def merge_strings(l):\n",
    "    #\n",
    "    # YOUR CODE HERE\n",
    "    #\n",
    "#     l = ['apples', 'bananas', 'tofu', 'cats']\n",
    "    lis=''\n",
    "    for i in range(len(l)):\n",
    "        if i==0:\n",
    "            lis=lis+l[i]\n",
    "        elif i==len(l)-1:\n",
    "            lis=lis+ ', and '+l[i]\n",
    "        else:\n",
    "            lis=lis+ ', '+l[i]\n",
    "    return lis\n",
    "            \n",
    "    "
   ]
  },
  {
   "cell_type": "code",
   "execution_count": 78,
   "metadata": {
    "collapsed": true,
    "nbgrader": {
     "grade": false,
     "grade_id": "cell-3000cfda0f62d280",
     "locked": true,
     "schema_version": 1,
     "solution": false
    }
   },
   "outputs": [],
   "source": [
    "# validation\n",
    "assert(merge_strings(['apples', 'bananas', 'tofu', 'cats'])=='apples, bananas, tofu, and cats')"
   ]
  },
  {
   "cell_type": "code",
   "execution_count": null,
   "metadata": {
    "collapsed": true,
    "nbgrader": {
     "grade": true,
     "grade_id": "q4",
     "locked": true,
     "points": 12,
     "schema_version": 1,
     "solution": false
    }
   },
   "outputs": [],
   "source": [
    "# Question q4\n",
    "#\n",
    "# AUTOGRADER TEST - DO NOT REMOVE\n",
    "#\n"
   ]
  },
  {
   "cell_type": "markdown",
   "metadata": {
    "nbgrader": {
     "grade": false,
     "grade_id": "cell-4caceda2a67ff127",
     "locked": true,
     "schema_version": 1,
     "solution": false
    }
   },
   "source": [
    "### 4. Character Picture Grid\n",
    "Say you have a list of lists where each value in the inner lists is a one-character string, like this:"
   ]
  },
  {
   "cell_type": "code",
   "execution_count": 109,
   "metadata": {
    "collapsed": true,
    "nbgrader": {
     "grade": false,
     "grade_id": "cell-ed2ff18e58f1b7ba",
     "locked": true,
     "schema_version": 1,
     "solution": false
    }
   },
   "outputs": [],
   "source": [
    "grid = [['.', '.', '.', '.', '.', '.'],\n",
    "        ['.', 'O', 'O', '.', '.', '.'],\n",
    "        ['O', 'O', 'O', 'O', '.', '.'],\n",
    "        ['O', 'O', 'O', 'O', 'O', '.'],\n",
    "        ['.', 'O', 'O', 'O', 'O', 'O'],\n",
    "        ['O', 'O', 'O', 'O', 'O', '.'],\n",
    "        ['O', 'O', 'O', 'O', '.', '.'],\n",
    "        ['.', 'O', 'O', '.', '.', '.'],\n",
    "        ['.', '.', '.', '.', '.', '.']]"
   ]
  },
  {
   "cell_type": "markdown",
   "metadata": {
    "nbgrader": {
     "grade": false,
     "grade_id": "cell-1535ba9b33295d87",
     "locked": true,
     "schema_version": 1,
     "solution": false
    }
   },
   "source": [
    "You can think of grid[x][y] as being the character at the x- and y-coordinates of a “picture” drawn with text characters. The (0, 0) origin will be in the upper-left corner, the x-coordinates increase going down, and the y-coordinates increase going right.\n",
    "\n",
    "\n",
    "\n",
    "1. Write the function print_grid() that prints the grid to screen. For example, running print_grid(grid) should generate the output of the following cell (note the use of the end-of-line charachter '\\n')."
   ]
  },
  {
   "cell_type": "code",
   "execution_count": 121,
   "metadata": {
    "nbgrader": {
     "grade": false,
     "grade_id": "cell-d02926ec3b5de0df",
     "locked": true,
     "schema_version": 1,
     "solution": false
    }
   },
   "outputs": [
    {
     "name": "stdout",
     "output_type": "stream",
     "text": [
      "......\n",
      ".OO...\n",
      "OOOO..\n",
      "OOOOO.\n",
      ".OOOOO\n",
      "OOOOO.\n",
      "OOOO..\n",
      ".OO...\n",
      "......\n",
      "\n"
     ]
    }
   ],
   "source": [
    "print('......\\n.OO...\\nOOOO..\\nOOOOO.\\n.OOOOO\\nOOOOO.\\nOOOO..\\n.OO...\\n......\\n')"
   ]
  },
  {
   "cell_type": "code",
   "execution_count": 88,
   "metadata": {
    "collapsed": true
   },
   "outputs": [],
   "source": [
    "import numpy as np"
   ]
  },
  {
   "cell_type": "code",
   "execution_count": 136,
   "metadata": {
    "collapsed": true
   },
   "outputs": [],
   "source": [
    "def print_grid(grid): \n",
    "    for i in range(len(grid)):\n",
    "        for j in range(len(grid[0])):\n",
    "            print(grid[i][j],end='')\n",
    "        print('')"
   ]
  },
  {
   "cell_type": "code",
   "execution_count": 138,
   "metadata": {},
   "outputs": [
    {
     "name": "stdout",
     "output_type": "stream",
     "text": [
      "......\n",
      ".OO...\n",
      "OOOO..\n",
      "OOOOO.\n",
      ".OOOOO\n",
      "OOOOO.\n",
      "OOOO..\n",
      ".OO...\n",
      "......\n"
     ]
    }
   ],
   "source": [
    "print_grid(grid)"
   ]
  },
  {
   "cell_type": "code",
   "execution_count": 139,
   "metadata": {
    "collapsed": true,
    "nbgrader": {
     "grade": false,
     "grade_id": "cell-57f32d63f3acacff",
     "locked": true,
     "schema_version": 1,
     "solution": false
    }
   },
   "outputs": [],
   "source": [
    "%%capture --no-stderr c \n",
    "print_grid(grid)"
   ]
  },
  {
   "cell_type": "code",
   "execution_count": 140,
   "metadata": {
    "nbgrader": {
     "grade": false,
     "grade_id": "cell-072534ff9fcf5c17",
     "locked": true,
     "schema_version": 1,
     "solution": false
    }
   },
   "outputs": [
    {
     "name": "stdout",
     "output_type": "stream",
     "text": [
      "Output:\n",
      "......\n",
      ".OO...\n",
      "OOOO..\n",
      "OOOOO.\n",
      ".OOOOO\n",
      "OOOOO.\n",
      "OOOO..\n",
      ".OO...\n",
      "......\n",
      "\n",
      "Expected output:\n",
      "......\n",
      ".OO...\n",
      "OOOO..\n",
      "OOOOO.\n",
      ".OOOOO\n",
      "OOOOO.\n",
      "OOOO..\n",
      ".OO...\n",
      "......\n",
      "\n"
     ]
    }
   ],
   "source": [
    "# validation\n",
    "print('Output:')\n",
    "print_grid(grid)\n",
    "print('\\nExpected output:\\n......\\n.OO...\\nOOOO..\\nOOOOO.\\n.OOOOO\\nOOOOO.\\nOOOO..\\n.OO...\\n......\\n')\n",
    "assert(c.stdout=='......\\n.OO...\\nOOOO..\\nOOOOO.\\n.OOOOO\\nOOOOO.\\nOOOO..\\n.OO...\\n......\\n'), 'The expected and generated output are different'"
   ]
  },
  {
   "cell_type": "code",
   "execution_count": 141,
   "metadata": {
    "collapsed": true,
    "nbgrader": {
     "grade": true,
     "grade_id": "cell-a35f050d96827aa4",
     "locked": true,
     "points": 0,
     "schema_version": 1,
     "solution": false
    }
   },
   "outputs": [],
   "source": [
    "%%capture --no-stderr c \n",
    "#\n",
    "# AUTOGRADER TEST - DO NOT REMOVE\n",
    "#\n"
   ]
  },
  {
   "cell_type": "code",
   "execution_count": 142,
   "metadata": {
    "collapsed": true,
    "nbgrader": {
     "grade": true,
     "grade_id": "q5",
     "locked": true,
     "points": 7,
     "schema_version": 1,
     "solution": false
    }
   },
   "outputs": [],
   "source": [
    "# Question q5\n",
    "#\n",
    "# AUTOGRADER TEST - DO NOT REMOVE\n",
    "#\n"
   ]
  },
  {
   "cell_type": "markdown",
   "metadata": {
    "nbgrader": {
     "grade": false,
     "grade_id": "cell-b6f3f1f9f998160f",
     "locked": true,
     "schema_version": 1,
     "solution": false
    }
   },
   "source": [
    "2. Implement the function `rotate_grid()` which copies and transforms a given grid such that the character in coordinates (x,y) will appear in coordinates (y,x). For example, executing the command print_grid(rotate_grid(grid)) should generate the  output of the following cell (note that the function `rotate_grid` should returns a list of lists and does not print output)."
   ]
  },
  {
   "cell_type": "code",
   "execution_count": 143,
   "metadata": {
    "nbgrader": {
     "grade": false,
     "grade_id": "cell-5e43731c1e6df3a5",
     "locked": true,
     "schema_version": 1,
     "solution": false
    }
   },
   "outputs": [
    {
     "name": "stdout",
     "output_type": "stream",
     "text": [
      "..OO.OO..\n",
      ".OOOOOOO.\n",
      ".OOOOOOO.\n",
      "..OOOOO..\n",
      "...OOO...\n",
      "....O....\n",
      "\n"
     ]
    }
   ],
   "source": [
    "print('..OO.OO..\\n.OOOOOOO.\\n.OOOOOOO.\\n..OOOOO..\\n...OOO...\\n....O....\\n')"
   ]
  },
  {
   "cell_type": "code",
   "execution_count": 174,
   "metadata": {
    "collapsed": true
   },
   "outputs": [],
   "source": [
    "def rotate_grid(grid):\n",
    "    #\n",
    "    # YOUR CODE HERE\n",
    "    #\n",
    "    grid_new=np.array(grid).T\n",
    "    return grid_new"
   ]
  },
  {
   "cell_type": "code",
   "execution_count": 178,
   "metadata": {
    "collapsed": true,
    "nbgrader": {
     "grade": true,
     "grade_id": "cell-c5e342607d9d0e4f",
     "locked": true,
     "points": 0,
     "schema_version": 1,
     "solution": false
    }
   },
   "outputs": [],
   "source": [
    "%%capture --no-stderr c\n",
    "#\n",
    "# AUTOGRADER TEST - DO NOT REMOVE\n",
    "#\n"
   ]
  },
  {
   "cell_type": "code",
   "execution_count": null,
   "metadata": {
    "collapsed": true,
    "nbgrader": {
     "grade": true,
     "grade_id": "q6",
     "locked": true,
     "points": 8,
     "schema_version": 1,
     "solution": false
    }
   },
   "outputs": [],
   "source": [
    "# Question q6\n",
    "#\n",
    "# AUTOGRADER TEST - DO NOT REMOVE\n",
    "#\n"
   ]
  },
  {
   "cell_type": "markdown",
   "metadata": {
    "nbgrader": {
     "grade": false,
     "grade_id": "cell-322d5f0b33b4aa14",
     "locked": true,
     "schema_version": 1,
     "solution": false
    }
   },
   "source": [
    "### 5. Fantasy Game Inventory\n",
    "You are creating a fantasy video game. The data structure to model the player’s inventory will be a dictionary where the keys are string values describing the item in the inventory and the value is an integer value detailing how many of that item the player has. For example, the dictionary value {'rope': 1, 'torch': 6, 'gold coin': 42, 'dagger': 1, 'arrow': 12} means the player has 1 rope, 6 torches, 42 gold coins, and so on.\n",
    "\n",
    "Write a function named displayInventory() that would take any possible “inventory” and display it like the following:\n",
    "\n",
    "Inventory:<br>\n",
    "12 arrow<br>\n",
    "1 dagger<br>\n",
    "42 gold coin<br>\n",
    "1 rope<br>\n",
    "6 torch<br>\n",
    "Total number of items: 62<br>\n",
    "\n",
    "Note that the items should be ordered alphabetically."
   ]
  },
  {
   "cell_type": "code",
   "execution_count": 179,
   "metadata": {
    "collapsed": true,
    "nbgrader": {
     "grade": false,
     "grade_id": "cell-93063ab302f6b67d",
     "locked": false,
     "schema_version": 1,
     "solution": true
    }
   },
   "outputs": [],
   "source": [
    "inventory = {'rope': 1, 'torch': 6, 'gold coin': 42, 'dagger': 1, 'arrow': 12}\n",
    "def displayInventory(inventory):\n",
    "    a = sorted(inventory)\n",
    "#     print(a)\n",
    "    #     print(sorted(inventory))\n",
    "    print (\"Inventory:\")\n",
    "    total_items = 0\n",
    "    for item in a:\n",
    "        print(str(inventory[item])+' '+item)\n",
    "        total_items += inventory[item]\n",
    "    print(\"Total number of items: \"+str(total_items))\n"
   ]
  },
  {
   "cell_type": "code",
   "execution_count": 180,
   "metadata": {
    "collapsed": true,
    "nbgrader": {
     "grade": false,
     "grade_id": "cell-3fa4ee5a40f8acc4",
     "locked": true,
     "schema_version": 1,
     "solution": false
    }
   },
   "outputs": [],
   "source": [
    "%%capture --no-stderr c\n",
    "stuff = {'rope': 1, 'torch': 6, 'gold coin': 42, 'dagger': 1, 'arrow': 12}\n",
    "displayInventory(stuff)"
   ]
  },
  {
   "cell_type": "code",
   "execution_count": 181,
   "metadata": {
    "nbgrader": {
     "grade": false,
     "grade_id": "cell-bb07503050205a86",
     "locked": true,
     "schema_version": 1,
     "solution": false
    }
   },
   "outputs": [
    {
     "name": "stdout",
     "output_type": "stream",
     "text": [
      "Output:\n",
      "Inventory:\n",
      "12 arrow\n",
      "1 dagger\n",
      "42 gold coin\n",
      "1 rope\n",
      "6 torch\n",
      "Total number of items: 62\n",
      "\n",
      "Expected output:\n",
      "Inventory:\n",
      "12 arrow\n",
      "1 dagger\n",
      "42 gold coin\n",
      "1 rope\n",
      "6 torch\n",
      "Total number of items: 62\n",
      "\n"
     ]
    }
   ],
   "source": [
    "# validation\n",
    "print('Output:')\n",
    "displayInventory(stuff)\n",
    "print('\\nExpected output:\\nInventory:\\n12 arrow\\n1 dagger\\n42 gold coin\\n1 rope\\n6 torch\\nTotal number of items: 62\\n')\n",
    "assert(c.stdout == 'Inventory:\\n12 arrow\\n1 dagger\\n42 gold coin\\n1 rope\\n6 torch\\nTotal number of items: 62\\n')"
   ]
  },
  {
   "cell_type": "code",
   "execution_count": null,
   "metadata": {
    "collapsed": true,
    "nbgrader": {
     "grade": true,
     "grade_id": "cell-6b6109622cd0fca3",
     "locked": true,
     "points": 0,
     "schema_version": 1,
     "solution": false
    }
   },
   "outputs": [],
   "source": [
    "%%capture --no-stderr c\n",
    "#\n",
    "# AUTOGRADER TEST - DO NOT REMOVE\n",
    "#\n"
   ]
  },
  {
   "cell_type": "code",
   "execution_count": null,
   "metadata": {
    "collapsed": true,
    "nbgrader": {
     "grade": true,
     "grade_id": "q7",
     "locked": true,
     "points": 12,
     "schema_version": 1,
     "solution": false
    }
   },
   "outputs": [],
   "source": [
    "# Question q7\n",
    "#\n",
    "# AUTOGRADER TEST - DO NOT REMOVE\n",
    "#\n"
   ]
  },
  {
   "cell_type": "markdown",
   "metadata": {
    "nbgrader": {
     "grade": false,
     "grade_id": "cell-b48bfb7b87109c95",
     "locked": true,
     "schema_version": 1,
     "solution": false
    }
   },
   "source": [
    "### 6. List to Dictionary Function for Fantasy Game Inventory\n",
    "Imagine that a vanquished dragon’s loot is represented as a list of strings like this:\n",
    "\n",
    "dragonLoot = ['gold coin', 'dagger', 'gold coin', 'gold coin', 'ruby']\n",
    "\n",
    "Write a function named addToInventory(inventory, addedItems), where the inventory parameter is a dictionary representing the player’s inventory (like in the previous project) and the addedItems parameter is a list like dragonLoot. The addToInventory() function should return a dictionary that represents the updated inventory. Note that the addedItems list can contain multiples of the same item. Your code could look something like this:\n",
    "\n",
    "\n",
    "\n",
    "inv = {'gold coin': 42, 'rope': 1}<br>\n",
    "dragonLoot = ['gold coin', 'dagger', 'gold coin', 'gold coin', 'ruby']<br>\n",
    "inv = addToInventory(inv, dragonLoot)<br>\n",
    "displayInventory(inv)\n",
    "\n",
    "The previous program (with your displayInventory() function from the previous project) would output the following:\n",
    "\n",
    "\n",
    "Inventory:<br>\n",
    "45 gold coin<br>\n",
    "1 rope<br>\n",
    "1 ruby<br>\n",
    "1 dagger<br>\n",
    "Total number of items: 48\n"
   ]
  },
  {
   "cell_type": "code",
   "execution_count": 182,
   "metadata": {
    "collapsed": true,
    "nbgrader": {
     "grade": false,
     "grade_id": "cell-3fa0afb0aa4e7d62",
     "locked": false,
     "schema_version": 1,
     "solution": true
    }
   },
   "outputs": [],
   "source": [
    "def displayInventory(inventory):\n",
    "    a = sorted(inventory)\n",
    "    print (\"Inventory:\")\n",
    "    total_items = 0\n",
    "    for item in a:\n",
    "        print(str(inventory[item])+' '+item)\n",
    "        total_items += inventory[item]\n",
    "    print(\"Total number of items: \"+str(total_items))\n",
    "    \n",
    "def addToInventory(inventory,addedItems):\n",
    "    for i in range(len(addedItems)):\n",
    "        if addedItems[i] not in inventory:\n",
    "            inventory.setdefault(addedItems[i],1)\n",
    "        else:\n",
    "            inventory[addedItems[i]] += 1\n",
    "    return inventory"
   ]
  },
  {
   "cell_type": "code",
   "execution_count": 183,
   "metadata": {
    "collapsed": true,
    "nbgrader": {
     "grade": false,
     "grade_id": "cell-0031fe79832a4155",
     "locked": true,
     "schema_version": 1,
     "solution": false
    }
   },
   "outputs": [],
   "source": [
    "%%capture --no-stderr c\n",
    "inv = {'gold coin': 42, 'rope': 1}\n",
    "dragonLoot = ['gold coin', 'dagger', 'gold coin', 'gold coin', 'ruby']\n",
    "inv = addToInventory(inv, dragonLoot)\n",
    "displayInventory(inv)"
   ]
  },
  {
   "cell_type": "code",
   "execution_count": 184,
   "metadata": {},
   "outputs": [
    {
     "data": {
      "text/plain": [
       "'Inventory:\\n1 dagger\\n45 gold coin\\n1 rope\\n1 ruby\\nTotal number of items: 48\\n'"
      ]
     },
     "execution_count": 184,
     "metadata": {},
     "output_type": "execute_result"
    }
   ],
   "source": [
    "c.stdout"
   ]
  },
  {
   "cell_type": "code",
   "execution_count": 185,
   "metadata": {
    "nbgrader": {
     "grade": false,
     "grade_id": "cell-c80742fb59f1ed97",
     "locked": true,
     "schema_version": 1,
     "solution": false
    }
   },
   "outputs": [
    {
     "name": "stdout",
     "output_type": "stream",
     "text": [
      "Output:\n",
      "Inventory:\n",
      "1 dagger\n",
      "45 gold coin\n",
      "1 rope\n",
      "1 ruby\n",
      "Total number of items: 48\n",
      "\n",
      "Expected output:\n",
      "Inventory:\n",
      "1 dagger\n",
      "45 gold coin\n",
      "1 rope\n",
      "1 ruby\n",
      "Total number of items: 48\n",
      "\n"
     ]
    }
   ],
   "source": [
    "# validation\n",
    "print('Output:')\n",
    "displayInventory(inv)\n",
    "print('\\nExpected output:\\nInventory:\\n1 dagger\\n45 gold coin\\n1 rope\\n1 ruby\\nTotal number of items: 48\\n')\n",
    "assert(c.stdout=='Inventory:\\n1 dagger\\n45 gold coin\\n1 rope\\n1 ruby\\nTotal number of items: 48\\n')"
   ]
  },
  {
   "cell_type": "code",
   "execution_count": null,
   "metadata": {
    "collapsed": true,
    "nbgrader": {
     "grade": true,
     "grade_id": "cell-a33609baee514fc5",
     "locked": true,
     "points": 0,
     "schema_version": 1,
     "solution": false
    }
   },
   "outputs": [],
   "source": [
    "%%capture --no-stderr c\n",
    "#\n",
    "# AUTOGRADER TEST - DO NOT REMOVE\n",
    "#\n"
   ]
  },
  {
   "cell_type": "code",
   "execution_count": null,
   "metadata": {
    "collapsed": true,
    "nbgrader": {
     "grade": true,
     "grade_id": "q8",
     "locked": true,
     "points": 7,
     "schema_version": 1,
     "solution": false
    }
   },
   "outputs": [],
   "source": [
    "# Question q8\n",
    "#\n",
    "# AUTOGRADER TEST - DO NOT REMOVE\n",
    "#\n"
   ]
  },
  {
   "cell_type": "markdown",
   "metadata": {
    "nbgrader": {
     "grade": false,
     "grade_id": "cell-110947abe7951d10",
     "locked": true,
     "schema_version": 1,
     "solution": false
    }
   },
   "source": [
    "### 7. Table Printer\n",
    "Write a function named printTable() that takes a list of lists of strings and displays it in a well-organized table with each column right-justified. Assume that all the inner lists will contain the same number of strings. For example, the value could look like this:"
   ]
  },
  {
   "cell_type": "code",
   "execution_count": null,
   "metadata": {
    "collapsed": true,
    "nbgrader": {
     "grade": false,
     "grade_id": "cell-9891e72e87bd9bf8",
     "locked": true,
     "schema_version": 1,
     "solution": false
    }
   },
   "outputs": [],
   "source": [
    "tableData = [['apples', 'oranges', 'cherries', 'banana'],\n",
    "             ['Alice', 'Bob', 'Carol', 'David'],\n",
    "             ['dogs', 'cats', 'moose', 'goose']]"
   ]
  },
  {
   "cell_type": "markdown",
   "metadata": {
    "nbgrader": {
     "grade": false,
     "grade_id": "cell-d6f1b9d38448775b",
     "locked": true,
     "schema_version": 1,
     "solution": false
    }
   },
   "source": [
    "Your printTable() function would print the following:\n",
    "\n",
    "<pre>\n",
    "  apples Alice  dogs\n",
    " oranges   Bob  cats\n",
    "cherries Carol moose\n",
    "  banana David goose\n",
    "</pre>\n",
    "Hint: Your code will first have to find the longest string in each of the inner lists so that the whole column can be wide enough to fit all the strings. You can store the maximum width of each column as a list of integers. The printTable() function can begin with colWidths = [0] * len(tableData]), which will create a list containing the same number of 0 values as the number of inner lists in tableData. That way, colWidths[0] can store the width of the longest string in tableData[0], colWidths[1] can store the width of the longest string in tableData[1], and so on. You can then find the largest value in the colWidths list to find out what integer width to pass to the rjust() string method.\n",
    "\n"
   ]
  },
  {
   "cell_type": "code",
   "execution_count": 186,
   "metadata": {
    "collapsed": true,
    "nbgrader": {
     "grade": false,
     "grade_id": "cell-5794aa966aa02850",
     "locked": false,
     "schema_version": 1,
     "solution": true
    }
   },
   "outputs": [],
   "source": [
    "tableData = [['apples', 'oranges', 'cherries', 'banana'],\n",
    "             ['Alice', 'Bob', 'Carol', 'David'],\n",
    "             ['dogs', 'cats', 'moose', 'goose']]\n",
    "\n",
    "def printTable(the_list):\n",
    "    rows = len(the_list[0])\n",
    "    columns = len(the_list)\n",
    "    column_widths = [0 for i in range(columns)]\n",
    "    # find longest string in each inner lists(or column)\n",
    "    for i in range(len(column_widths)):\n",
    "        longest = 0\n",
    "        for item in the_list[i]:\n",
    "            if len(item) > longest:\n",
    "                longest = len(item)\n",
    "        column_widths[i] = longest\n",
    "\n",
    "    # store strings in list\n",
    "    print_row = [\"\" for i in range(rows)]\n",
    "    # iterate over lists to produce strings with correct formatting\n",
    "    for a in range(rows):\n",
    "        for i in range(columns):\n",
    "            if i == 0:\n",
    "                print_row[a] = print_row[a] + the_list[i][a].rjust(column_widths[i])\n",
    "            else:\n",
    "                print_row[a] = print_row[a] + the_list[i][a].rjust(column_widths[i]+1)\n",
    "    for item in print_row:\n",
    "        print(item)"
   ]
  },
  {
   "cell_type": "code",
   "execution_count": 187,
   "metadata": {
    "collapsed": true,
    "nbgrader": {
     "grade": false,
     "grade_id": "cell-1d9cabe1550a2208",
     "locked": true,
     "schema_version": 1,
     "solution": false
    }
   },
   "outputs": [],
   "source": [
    "%%capture c\n",
    "printTable(tableData)"
   ]
  },
  {
   "cell_type": "code",
   "execution_count": 188,
   "metadata": {
    "nbgrader": {
     "grade": false,
     "grade_id": "cell-d700f3ce60e24f9a",
     "locked": true,
     "schema_version": 1,
     "solution": false
    }
   },
   "outputs": [
    {
     "name": "stdout",
     "output_type": "stream",
     "text": [
      "Output:\n",
      "  apples Alice  dogs\n",
      " oranges   Bob  cats\n",
      "cherries Carol moose\n",
      "  banana David goose\n",
      "\n",
      "Expected output:\n",
      "  apples Alice  dogs\n",
      " oranges   Bob  cats\n",
      "cherries Carol moose\n",
      "  banana David goose\n",
      "\n"
     ]
    }
   ],
   "source": [
    "# validation\n",
    "print('Output:')\n",
    "printTable(tableData)\n",
    "print('\\nExpected output:\\n  apples Alice  dogs\\n oranges   Bob  cats\\ncherries Carol moose\\n  banana David goose\\n')\n",
    "assert(c.stdout=='  apples Alice  dogs\\n oranges   Bob  cats\\ncherries Carol moose\\n  banana David goose\\n')"
   ]
  },
  {
   "cell_type": "code",
   "execution_count": 189,
   "metadata": {
    "collapsed": true,
    "nbgrader": {
     "grade": true,
     "grade_id": "cell-72a0db55cf205850",
     "locked": true,
     "points": 0,
     "schema_version": 1,
     "solution": false
    }
   },
   "outputs": [],
   "source": [
    "%%capture c\n",
    "#\n",
    "# AUTOGRADER TEST - DO NOT REMOVE\n",
    "#\n"
   ]
  },
  {
   "cell_type": "code",
   "execution_count": null,
   "metadata": {
    "collapsed": true,
    "nbgrader": {
     "grade": true,
     "grade_id": "q9",
     "locked": true,
     "points": 7,
     "schema_version": 1,
     "solution": false
    }
   },
   "outputs": [],
   "source": [
    "# Question q9\n",
    "#\n",
    "# AUTOGRADER TEST - DO NOT REMOVE\n",
    "#\n"
   ]
  },
  {
   "cell_type": "markdown",
   "metadata": {
    "nbgrader": {
     "grade": false,
     "grade_id": "cell-eb62f6c3f79e7da3",
     "locked": true,
     "schema_version": 1,
     "solution": false
    }
   },
   "source": [
    "### Problem 8: Caeser cipher (python programming)\n",
    "Read more at: https://inventwithpython.com/hacking/chapter1.html and https://en.wikipedia.org/wiki/Caesar_cipher\n",
    "\n",
    "Caesar cipher is a simple text encryption technique where each letter is substituted by another letter in some fixed distance n. For example, for n=1 the word \"bat\" is encrypted to \"cbu\" (the first letter c replaces b, b replaces a, and u replaces t), and the word \"zebra\" is replaced by \"afcsb\". Similarly, for n=2, the word \"bat\" is encrypted to \"dcv\". \n",
    "\n",
    "1. Write the function encrypt(s,n), which encrypts the word s by a shift of n letters. Make sure that:\n",
    "    - your function ignores charachters that are not in the English alphabet but keep those charachters as is.     \n",
    "    - capitalization is preserved in the encoding. For example: encrypt('a',1)->'b', encrypt('A',1)->'B'."
   ]
  },
  {
   "cell_type": "code",
   "execution_count": null,
   "metadata": {
    "collapsed": true,
    "nbgrader": {
     "grade": false,
     "grade_id": "cell-b33e298e3544c2df",
     "locked": true,
     "schema_version": 1,
     "solution": false
    }
   },
   "outputs": [],
   "source": [
    "# https://docs.python.org/3.8/library/string.html\n",
    "import string\n",
    "print(string.ascii_letters)\n",
    "print(string.ascii_lowercase)\n",
    "print(string.ascii_uppercase)"
   ]
  },
  {
   "cell_type": "code",
   "execution_count": 190,
   "metadata": {
    "collapsed": true,
    "nbgrader": {
     "grade": false,
     "grade_id": "cell-5fade0736837c324",
     "locked": false,
     "schema_version": 1,
     "solution": true
    }
   },
   "outputs": [],
   "source": [
    "def encrypt(s, n):\n",
    "\tresult = \"\" \n",
    "  \n",
    "\t# traverse text \n",
    "\tfor i in range(len(s)): \n",
    "\t\tchar = s[i] \n",
    "  \n",
    "\t\t# Encrypt uppercase characters \n",
    "\t\tif (char.isupper()): \n",
    "\t\t\tresult += chr((ord(char) + n - 65) % 26 + 65) \n",
    "  \n",
    "\t\t# Encrypt lowercase characters \n",
    "\t\telif (char.islower()): \n",
    "\t\t\tresult += chr((ord(char) + n - 97) % 26 + 97)\n",
    "\t\telse:\n",
    "\t\t\tresult += char\n",
    "  \n",
    "\treturn result"
   ]
  },
  {
   "cell_type": "code",
   "execution_count": 191,
   "metadata": {
    "collapsed": true,
    "nbgrader": {
     "grade": false,
     "grade_id": "cell-b3eda38cd4d931f9",
     "locked": true,
     "schema_version": 1,
     "solution": false
    }
   },
   "outputs": [],
   "source": [
    "# validation\n",
    "assert(encrypt('zEbra !',1)=='aFcsb !')"
   ]
  },
  {
   "cell_type": "code",
   "execution_count": 192,
   "metadata": {
    "collapsed": true,
    "nbgrader": {
     "grade": true,
     "grade_id": "q10",
     "locked": true,
     "points": 5,
     "schema_version": 1,
     "solution": false
    }
   },
   "outputs": [],
   "source": [
    "# Question q10\n",
    "#\n",
    "# AUTOGRADER TEST - DO NOT REMOVE\n",
    "#\n"
   ]
  },
  {
   "cell_type": "markdown",
   "metadata": {
    "nbgrader": {
     "grade": false,
     "grade_id": "cell-515a6c72a951294e",
     "locked": true,
     "schema_version": 1,
     "solution": false
    }
   },
   "source": [
    "2. write the function decrypt(s,n), which decrypts an encoded word s."
   ]
  },
  {
   "cell_type": "code",
   "execution_count": 193,
   "metadata": {
    "collapsed": true,
    "nbgrader": {
     "grade": false,
     "grade_id": "cell-091961b72edf1827",
     "locked": false,
     "schema_version": 1,
     "solution": true
    }
   },
   "outputs": [],
   "source": [
    "def decrypt(s, n):\n",
    "\tresult = \"\" \n",
    "  \n",
    "\t# traverse text \n",
    "\tfor i in range(len(s)): \n",
    "\t\tchar = s[i] \n",
    "  \n",
    "\t\t# Encrypt uppercase characters \n",
    "\t\tif (char.isupper()): \n",
    "\t\t\tresult += chr((ord(char) - n - 65) % 26 + 65) \n",
    "  \n",
    "\t\t# Encrypt lowercase characters \n",
    "\t\telif (char.islower()): \n",
    "\t\t\tresult += chr((ord(char) - n - 97) % 26 + 97)\n",
    "\t\telse:\n",
    "\t\t\tresult += char\n",
    "  \n",
    "\treturn result "
   ]
  },
  {
   "cell_type": "code",
   "execution_count": 194,
   "metadata": {
    "collapsed": true,
    "nbgrader": {
     "grade": false,
     "grade_id": "cell-35db23f60e5fcf92",
     "locked": true,
     "schema_version": 1,
     "solution": false
    }
   },
   "outputs": [],
   "source": [
    "# validation\n",
    "assert(decrypt('aFcsb !',1)==('zEbra !'))"
   ]
  },
  {
   "cell_type": "code",
   "execution_count": 195,
   "metadata": {
    "collapsed": true,
    "nbgrader": {
     "grade": true,
     "grade_id": "q11",
     "locked": true,
     "points": 3,
     "schema_version": 1,
     "solution": false
    }
   },
   "outputs": [],
   "source": [
    "# Question q11\n",
    "#\n",
    "# AUTOGRADER TEST - DO NOT REMOVE\n",
    "#\n"
   ]
  },
  {
   "cell_type": "markdown",
   "metadata": {
    "nbgrader": {
     "grade": false,
     "grade_id": "cell-b00dabe01c1b0f32",
     "locked": true,
     "schema_version": 1,
     "solution": false
    }
   },
   "source": [
    "3. Implement the function encode_text_file(input_file, output_file, n,encoding='utf-8'), which __encodes__ a file by a shift of $n$ letters. "
   ]
  },
  {
   "cell_type": "code",
   "execution_count": 1,
   "metadata": {
    "nbgrader": {
     "grade": false,
     "grade_id": "cell-314ef61dc5267305",
     "locked": false,
     "schema_version": 1,
     "solution": true
    }
   },
   "outputs": [],
   "source": [
    "def encode_text_file(input_file_plain, output_file_encoded, n, encoding='utf-8'):\n",
    "    #\n",
    "    # YOUR CODE HERE\n",
    "    #\n",
    "    data=open(input_file_plain,\"r\")\n",
    "    text=data.readlines()\n",
    "    \n",
    "    result=\"\"\n",
    "    for i in range(len(text)):\n",
    "        for j in range(len(text[i])):\n",
    "            char=text[i][j]\n",
    "            if char.isalpha():\n",
    "                if ord(char)!=246:\n",
    "                    if char.isupper():\n",
    "                        result+=chr((ord(char)+n-65)%26+65)\n",
    "                    else:\n",
    "                        result+=chr((ord(char)+n-97)%26+97)\n",
    "                else:\n",
    "                    result+=char\n",
    "            else:\n",
    "                result+=char\n",
    "        ex=open(output_file_encoded,\"w\")\n",
    "        ex.write(result)\n",
    "        ex.close()\n",
    "    return ex\n"
   ]
  },
  {
   "cell_type": "code",
   "execution_count": 2,
   "metadata": {
    "nbgrader": {
     "grade": false,
     "grade_id": "cell-ff6792322844c327",
     "locked": true,
     "schema_version": 1,
     "solution": false
    }
   },
   "outputs": [
    {
     "ename": "NameError",
     "evalue": "name 'public' is not defined",
     "output_type": "error",
     "traceback": [
      "\u001b[1;31m---------------------------------------------------------------------------\u001b[0m",
      "\u001b[1;31mNameError\u001b[0m                                 Traceback (most recent call last)",
      "\u001b[1;32m<ipython-input-2-8625d4869449>\u001b[0m in \u001b[0;36m<module>\u001b[1;34m()\u001b[0m\n\u001b[0;32m      1\u001b[0m \u001b[1;31m# validation\u001b[0m\u001b[1;33m\u001b[0m\u001b[1;33m\u001b[0m\u001b[0m\n\u001b[1;32m----> 2\u001b[1;33m \u001b[0mencode_text_file\u001b[0m\u001b[1;33m(\u001b[0m\u001b[0mpublic\u001b[0m\u001b[1;33m+\u001b[0m\u001b[1;34m\"novel.txt\"\u001b[0m\u001b[1;33m,\u001b[0m \u001b[1;34m\"novel_encoded.txt\"\u001b[0m\u001b[1;33m,\u001b[0m \u001b[1;36m7\u001b[0m\u001b[1;33m)\u001b[0m\u001b[1;33m\u001b[0m\u001b[0m\n\u001b[0m\u001b[0;32m      3\u001b[0m \u001b[0mf\u001b[0m \u001b[1;33m=\u001b[0m \u001b[0mpublic\u001b[0m\u001b[1;33m+\u001b[0m\u001b[1;34m'novel_encoded_solution.txt'\u001b[0m\u001b[1;33m\u001b[0m\u001b[0m\n\u001b[0;32m      4\u001b[0m \u001b[0mx\u001b[0m \u001b[1;33m=\u001b[0m \u001b[0mget_ipython\u001b[0m\u001b[1;33m(\u001b[0m\u001b[1;33m)\u001b[0m\u001b[1;33m.\u001b[0m\u001b[0mgetoutput\u001b[0m\u001b[1;33m(\u001b[0m\u001b[1;34m'diff --strip-trailing-cr novel_encoded.txt $f'\u001b[0m\u001b[1;33m)\u001b[0m\u001b[1;33m\u001b[0m\u001b[0m\n\u001b[0;32m      5\u001b[0m \u001b[1;32massert\u001b[0m\u001b[1;33m(\u001b[0m\u001b[0mx\u001b[0m\u001b[1;33m==\u001b[0m\u001b[1;33m[\u001b[0m\u001b[1;33m]\u001b[0m\u001b[1;33m)\u001b[0m\u001b[1;33m\u001b[0m\u001b[0m\n",
      "\u001b[1;31mNameError\u001b[0m: name 'public' is not defined"
     ]
    }
   ],
   "source": [
    "# validation\n",
    "encode_text_file(public+\"novel.txt\", \"novel_encoded.txt\", 7)\n",
    "f = public+'novel_encoded_solution.txt'\n",
    "x = !diff --strip-trailing-cr novel_encoded.txt $f\n",
    "assert(x==[])"
   ]
  },
  {
   "cell_type": "code",
   "execution_count": null,
   "metadata": {
    "collapsed": true,
    "nbgrader": {
     "grade": true,
     "grade_id": "q12",
     "locked": true,
     "points": 3,
     "schema_version": 1,
     "solution": false
    }
   },
   "outputs": [],
   "source": [
    "# Question q12\n",
    "#\n",
    "# AUTOGRADER TEST - DO NOT REMOVE\n",
    "#\n"
   ]
  },
  {
   "cell_type": "markdown",
   "metadata": {
    "nbgrader": {
     "grade": false,
     "grade_id": "cell-945c283a1bdf971c",
     "locked": true,
     "schema_version": 1,
     "solution": false
    }
   },
   "source": [
    "4. Implement the function decode_text_file(input_file, output_file, n), which __decodes__ a file by a shift of n letters. "
   ]
  },
  {
   "cell_type": "code",
   "execution_count": 243,
   "metadata": {
    "collapsed": true,
    "nbgrader": {
     "grade": false,
     "grade_id": "cell-d7ab7a61c2746769",
     "locked": false,
     "schema_version": 1,
     "solution": true
    }
   },
   "outputs": [],
   "source": [
    "def decode_text_file(input_file_encoded, output_file_plain, n, encoding='utf-8'):\n",
    "    #\n",
    "    # YOUR CODE HERE\n",
    "    #\n",
    "    f1 = open(input_file_encoded, 'r', encoding=encoding)\n",
    "    a = f1.readlines()\n",
    "    result = \"\" \n",
    "\n",
    "    # traverse text \n",
    "    for i in range(len(a)): \n",
    "        for j in range(len(a[i])):\n",
    "            \n",
    "            char = a[i][j] \n",
    "\n",
    "            # Encrypt uppercase characters \n",
    "            if (ord(char)!=246):\n",
    "                if (char.isupper()): \n",
    "                    result += chr((ord(char) - n - 65) % 26 + 65) \n",
    "\n",
    "                # Encrypt lowercase characters \n",
    "                elif (char.islower()): \n",
    "                    result += chr((ord(char) - n - 97) % 26 + 97)\n",
    "                else:\n",
    "                    result += char\n",
    "            else:\n",
    "                result += char\n",
    "        file = open(output_file_plain, 'w', encoding=encoding) \n",
    "        file.write(result) \n",
    "        file.close() \n",
    "    return result"
   ]
  },
  {
   "cell_type": "code",
   "execution_count": 244,
   "metadata": {
    "collapsed": true,
    "nbgrader": {
     "grade": false,
     "grade_id": "cell-34863760f653e8fb",
     "locked": true,
     "schema_version": 1,
     "solution": false
    }
   },
   "outputs": [],
   "source": [
    "# validation\n",
    "decode_text_file(\"novel_encoded.txt\", \"novel_decoded.txt\", 7)\n",
    "f = public+'novel.txt'\n",
    "x = !diff --strip-trailing-cr novel_decoded.txt $f\n",
    "assert(x==[])"
   ]
  },
  {
   "cell_type": "code",
   "execution_count": 245,
   "metadata": {
    "collapsed": true,
    "nbgrader": {
     "grade": true,
     "grade_id": "q13",
     "locked": true,
     "points": 3,
     "schema_version": 1,
     "solution": false
    }
   },
   "outputs": [],
   "source": [
    "# Question q13\n",
    "#\n",
    "# AUTOGRADER TEST - DO NOT REMOVE\n",
    "#\n"
   ]
  },
  {
   "cell_type": "markdown",
   "metadata": {
    "nbgrader": {
     "grade": false,
     "grade_id": "cell-c2cb8bff9bfb7ba9",
     "locked": true,
     "schema_version": 1,
     "solution": false
    }
   },
   "source": [
    "5. the file \"mystery.txt\" contains an encoded novel. Decode the file and write the title of the book as it appears in the first line of the file (note that the format of the first line is \"The Project Gutenberg EBook of TITLE, by AUTHOR\")."
   ]
  },
  {
   "cell_type": "code",
   "execution_count": 266,
   "metadata": {
    "nbgrader": {
     "grade": false,
     "grade_id": "cell-70a1ec9c3997b2ba",
     "locked": false,
     "schema_version": 1,
     "solution": true
    }
   },
   "outputs": [
    {
     "ename": "NameError",
     "evalue": "name 'string' is not defined",
     "output_type": "error",
     "traceback": [
      "\u001b[0;31m---------------------------------------------------------------------------\u001b[0m",
      "\u001b[0;31mNameError\u001b[0m                                 Traceback (most recent call last)",
      "\u001b[0;32m<ipython-input-266-66e27d5c19ad>\u001b[0m in \u001b[0;36m<module>\u001b[0;34m()\u001b[0m\n\u001b[1;32m     11\u001b[0m \u001b[0;32mwhile\u001b[0m \u001b[0;34m'The Project Gutenberg EBook of'\u001b[0m \u001b[0;32mnot\u001b[0m \u001b[0;32min\u001b[0m \u001b[0msout\u001b[0m\u001b[0;34m:\u001b[0m\u001b[0;34m\u001b[0m\u001b[0m\n\u001b[1;32m     12\u001b[0m     \u001b[0;32mfor\u001b[0m \u001b[0mi\u001b[0m \u001b[0;32min\u001b[0m \u001b[0mrange\u001b[0m\u001b[0;34m(\u001b[0m\u001b[0;36m0\u001b[0m\u001b[0;34m,\u001b[0m\u001b[0mlen\u001b[0m\u001b[0;34m(\u001b[0m\u001b[0ms\u001b[0m\u001b[0;34m)\u001b[0m\u001b[0;34m)\u001b[0m\u001b[0;34m:\u001b[0m\u001b[0;34m\u001b[0m\u001b[0m\n\u001b[0;32m---> 13\u001b[0;31m         \u001b[0;32mif\u001b[0m \u001b[0mstr\u001b[0m\u001b[0;34m(\u001b[0m\u001b[0ms\u001b[0m\u001b[0;34m[\u001b[0m\u001b[0mi\u001b[0m\u001b[0;34m]\u001b[0m\u001b[0;34m)\u001b[0m \u001b[0;32mnot\u001b[0m \u001b[0;32min\u001b[0m \u001b[0mstring\u001b[0m\u001b[0;34m.\u001b[0m\u001b[0mascii_letters\u001b[0m\u001b[0;34m:\u001b[0m\u001b[0;34m\u001b[0m\u001b[0m\n\u001b[0m\u001b[1;32m     14\u001b[0m                 \u001b[0ms_out\u001b[0m\u001b[0;34m[\u001b[0m\u001b[0mi\u001b[0m\u001b[0;34m]\u001b[0m\u001b[0;34m=\u001b[0m\u001b[0mstr\u001b[0m\u001b[0;34m(\u001b[0m\u001b[0ms\u001b[0m\u001b[0;34m[\u001b[0m\u001b[0mi\u001b[0m\u001b[0;34m]\u001b[0m\u001b[0;34m)\u001b[0m\u001b[0;34m\u001b[0m\u001b[0m\n\u001b[1;32m     15\u001b[0m         \u001b[0;32mif\u001b[0m \u001b[0mstr\u001b[0m\u001b[0;34m(\u001b[0m\u001b[0ms\u001b[0m\u001b[0;34m[\u001b[0m\u001b[0mi\u001b[0m\u001b[0;34m]\u001b[0m\u001b[0;34m)\u001b[0m \u001b[0;32min\u001b[0m \u001b[0mstring\u001b[0m\u001b[0;34m.\u001b[0m\u001b[0mascii_lowercase\u001b[0m\u001b[0;34m:\u001b[0m\u001b[0;34m\u001b[0m\u001b[0m\n",
      "\u001b[0;31mNameError\u001b[0m: name 'string' is not defined"
     ]
    }
   ],
   "source": [
    "\n",
    "# answer = \"The Project Gutenberg EBook of Dracula, by Bram Stoker\"\n",
    "#\n",
    "# YOUR CODE HERE\n",
    "\n",
    "f=open(public+\"mystery.txt\",'r',encoding='utf-8')\n",
    "s=f.readline()\n",
    "nword=1\n",
    "s_out=[0]*len(s)\n",
    "sout=''\n",
    "while 'The Project Gutenberg EBook of' not in sout:\n",
    "    for i in range(0,len(s)):\n",
    "        if str(s[i]) not in string.ascii_letters:\n",
    "                s_out[i]=str(s[i])\n",
    "        if str(s[i]) in string.ascii_lowercase:\n",
    "            loc=string.ascii_lowercase.find(str(s[i]))+nword\n",
    "            s_out[i]=string.ascii_lowercase[loc%26]\n",
    "        if str(s[i]) in string.ascii_uppercase:\n",
    "            loc=string.ascii_uppercase.find(str(s[i]))+nword\n",
    "            s_out[i]=string.ascii_uppercase[loc%26]\n",
    "            \n",
    "    sout=str(\"\".join(map(str, s_out)))\n",
    "    nword=nword+1\n",
    "#print (sout)\n",
    "\n",
    "decode_text_file(public+\"mystery.txt\", \"mystery_decoded.txt\", nword-1, encoding='utf-8')"
   ]
  },
  {
   "cell_type": "code",
   "execution_count": null,
   "metadata": {
    "collapsed": true,
    "nbgrader": {
     "grade": true,
     "grade_id": "q14",
     "locked": true,
     "points": 2,
     "schema_version": 1,
     "solution": false
    }
   },
   "outputs": [],
   "source": [
    "# Question q14\n",
    "#\n",
    "# AUTOGRADER TEST - DO NOT REMOVE\n",
    "#\n"
   ]
  },
  {
   "cell_type": "markdown",
   "metadata": {
    "nbgrader": {
     "grade": false,
     "grade_id": "cell-067fc4f63f7e16d0",
     "locked": true,
     "schema_version": 1,
     "solution": false
    }
   },
   "source": [
    "### Problem 9: Strong Password Detection (regular expressions, optional? )\n",
    "From\n",
    "\"Automate the Boring Stuff with Python: Practical Programming for Total Beginners\" by Al Sweigart (http://a.co/7Onl06W, https://automatetheboringstuff.com/chapter7/)\n",
    "\n",
    "Write a function that uses regular expressions to verify that a password string it is passed is strong. A strong password is defined as one that is at least eight characters long, contains both uppercase and lowercase characters, has at least one digit and does not contain space charachters (e.g., \" \", \\n, \\t). You may need to test the string against multiple regex patterns to validate its strength."
   ]
  },
  {
   "cell_type": "code",
   "execution_count": 203,
   "metadata": {
    "collapsed": true
   },
   "outputs": [],
   "source": [
    "import re"
   ]
  },
  {
   "cell_type": "code",
   "execution_count": 228,
   "metadata": {
    "nbgrader": {
     "grade": false,
     "grade_id": "cell-223ce5e45b0a0672",
     "locked": false,
     "schema_version": 1,
     "solution": true
    }
   },
   "outputs": [],
   "source": [
    "import re\n",
    "\n",
    "def test_password(s):\n",
    "    #\n",
    "    # YOUR CODE HERE\n",
    "    #\n",
    "    st=len(s)>=8 and re.findall('[A-Z]', s)!=[] and  re.findall('[a-z]', s)!=[] and re.findall('\\d', s)!=[] and re.findall('\\s', s)==[]\n",
    "    return st\n",
    "    "
   ]
  },
  {
   "cell_type": "code",
   "execution_count": 232,
   "metadata": {
    "nbgrader": {
     "grade": false,
     "grade_id": "cell-c41d66d87f96b93f",
     "locked": true,
     "schema_version": 1,
     "solution": false
    }
   },
   "outputs": [],
   "source": [
    "# validation\n",
    "assert(test_password('hello')==False)\n",
    "assert(test_password('hello world')==False)\n",
    "assert(test_password('helloworld')==False)\n",
    "assert(test_password('helloWorld')==False)\n",
    "assert(test_password('helloWorld9\\n')==False)\n",
    "assert(test_password('helloWorld9')==True)"
   ]
  },
  {
   "cell_type": "code",
   "execution_count": null,
   "metadata": {
    "collapsed": true,
    "nbgrader": {
     "grade": true,
     "grade_id": "q15",
     "locked": true,
     "points": 5,
     "schema_version": 1,
     "solution": false
    }
   },
   "outputs": [],
   "source": [
    "# Question q15\n",
    "#\n",
    "# AUTOGRADER TEST - DO NOT REMOVE\n",
    "#\n"
   ]
  },
  {
   "cell_type": "markdown",
   "metadata": {
    "nbgrader": {
     "grade": false,
     "grade_id": "cell-bc02fe600ef593c5",
     "locked": true,
     "schema_version": 1,
     "solution": false
    }
   },
   "source": [
    "## Part 2: IPython and OS shell commands\n",
    "\n",
    "1.Use the shell command 'cat' to display the entire content of the file 'code.py'. Set the value of the variable x to the output of the shell command."
   ]
  },
  {
   "cell_type": "code",
   "execution_count": 271,
   "metadata": {
    "nbgrader": {
     "grade": false,
     "grade_id": "cell-d63f1158319f9d51",
     "locked": false,
     "schema_version": 1,
     "solution": true
    }
   },
   "outputs": [
    {
     "data": {
      "text/plain": [
       "['def factorial(a):',\n",
       " '\\tif a==0:',\n",
       " '\\t\\treturn(1)',\n",
       " '\\telse:',\n",
       " '\\t\\treturn(a*factorial(a-1))']"
      ]
     },
     "execution_count": 271,
     "metadata": {},
     "output_type": "execute_result"
    }
   ],
   "source": [
    "x = !cat publicdata/code.py\n",
    "#\n",
    "# YOUR CODE HERE\n",
    "\n",
    "x"
   ]
  },
  {
   "cell_type": "code",
   "execution_count": 247,
   "metadata": {
    "collapsed": true,
    "nbgrader": {
     "grade": true,
     "grade_id": "q16",
     "locked": true,
     "points": 3,
     "schema_version": 1,
     "solution": false
    }
   },
   "outputs": [],
   "source": [
    "# Question q16\n",
    "#\n",
    "# AUTOGRADER TEST - DO NOT REMOVE\n",
    "#\n"
   ]
  },
  {
   "cell_type": "markdown",
   "metadata": {
    "nbgrader": {
     "grade": false,
     "grade_id": "cell-2b18719889962987",
     "locked": true,
     "schema_version": 1,
     "solution": false
    }
   },
   "source": [
    "2.The file 'code.py' contains the function factorial(n). Using the magic command 'run' execute the code in the file ([link](https://ipython.readthedocs.io/en/stable/interactive/magics.html)). Do not copy-paste the content of the file into a code cell."
   ]
  },
  {
   "cell_type": "code",
   "execution_count": 250,
   "metadata": {
    "collapsed": true,
    "nbgrader": {
     "grade": false,
     "grade_id": "cell-e1deef42ebf05b34",
     "locked": false,
     "schema_version": 1,
     "solution": true
    }
   },
   "outputs": [],
   "source": [
    "#\n",
    "# YOUR CODE HERE\n",
    "#\n",
    "%run \"publicdata/code.py\"\n"
   ]
  },
  {
   "cell_type": "code",
   "execution_count": 251,
   "metadata": {
    "collapsed": true,
    "nbgrader": {
     "grade": false,
     "grade_id": "cell-2f342c18b0613324",
     "locked": true,
     "schema_version": 1,
     "solution": false
    }
   },
   "outputs": [],
   "source": [
    "# validation\n",
    "assert(factorial(10)==3628800)"
   ]
  },
  {
   "cell_type": "code",
   "execution_count": null,
   "metadata": {
    "collapsed": true,
    "nbgrader": {
     "grade": true,
     "grade_id": "q17",
     "locked": true,
     "points": 3,
     "schema_version": 1,
     "solution": false
    }
   },
   "outputs": [],
   "source": [
    "# Question q17\n",
    "#\n",
    "# AUTOGRADER TEST - DO NOT REMOVE\n",
    "#\n"
   ]
  },
  {
   "cell_type": "markdown",
   "metadata": {
    "nbgrader": {
     "grade": false,
     "grade_id": "cell-a72030e82ce771d4",
     "locked": true,
     "schema_version": 1,
     "solution": false
    }
   },
   "source": [
    "3.Use a shell/magic command that returns the current working directory. Set the value of the variable x to the output of the shell command."
   ]
  },
  {
   "cell_type": "code",
   "execution_count": 270,
   "metadata": {
    "nbgrader": {
     "grade": false,
     "grade_id": "cell-0413828fe5b13c00",
     "locked": false,
     "schema_version": 1,
     "solution": true
    }
   },
   "outputs": [
    {
     "data": {
      "text/plain": [
       "['/home/ccc_v1_w_N2VmZ_89333/asn37591_3/asn37592_1/work']"
      ]
     },
     "execution_count": 270,
     "metadata": {},
     "output_type": "execute_result"
    }
   ],
   "source": [
    "x = !pwd \n",
    "#\n",
    "# YOUR CODE HERE\n",
    "\n",
    "\n",
    "x"
   ]
  },
  {
   "cell_type": "code",
   "execution_count": 261,
   "metadata": {
    "nbgrader": {
     "grade": true,
     "grade_id": "q18",
     "locked": true,
     "points": 3,
     "schema_version": 1,
     "solution": false
    }
   },
   "outputs": [],
   "source": [
    "# Question q18\n",
    "#\n",
    "# AUTOGRADER TEST - DO NOT REMOVE\n",
    "#\n",
    "\n"
   ]
  },
  {
   "cell_type": "markdown",
   "metadata": {
    "nbgrader": {
     "grade": false,
     "grade_id": "cell-c37941353f526d72",
     "locked": true,
     "schema_version": 1,
     "solution": false
    }
   },
   "source": [
    "4.Use a shell command to set the value of the variable x to a list holding the file names in the current working directory."
   ]
  },
  {
   "cell_type": "code",
   "execution_count": 269,
   "metadata": {
    "nbgrader": {
     "grade": false,
     "grade_id": "cell-501286dd05e23aac",
     "locked": false,
     "schema_version": 1,
     "solution": true
    },
    "scrolled": true
   },
   "outputs": [
    {
     "data": {
      "text/plain": [
       "['Homework2.ipynb',\n",
       " 'novel_decoded.txt',\n",
       " 'novel_encoded.txt',\n",
       " 'public',\n",
       " 'publicdata']"
      ]
     },
     "execution_count": 269,
     "metadata": {},
     "output_type": "execute_result"
    }
   ],
   "source": [
    "x = !ls\n",
    "#\n",
    "# YOUR CODE HERE\n",
    "x"
   ]
  },
  {
   "cell_type": "code",
   "execution_count": 263,
   "metadata": {
    "nbgrader": {
     "grade": true,
     "grade_id": "q19",
     "locked": true,
     "points": 5,
     "schema_version": 1,
     "solution": false
    },
    "scrolled": true
   },
   "outputs": [],
   "source": [
    "# Question q19\n",
    "#\n",
    "# AUTOGRADER TEST - DO NOT REMOVE\n",
    "#\n"
   ]
  },
  {
   "cell_type": "markdown",
   "metadata": {
    "nbgrader": {
     "grade": false,
     "grade_id": "cell-1227f570aa29089f",
     "locked": true,
     "schema_version": 1,
     "solution": false
    }
   },
   "source": [
    "5.Use the shell command 'head' to display the first 5 lines of the file 'novel.txt'. Set the value of the variable x to the output of the shell command."
   ]
  },
  {
   "cell_type": "code",
   "execution_count": 267,
   "metadata": {
    "nbgrader": {
     "grade": false,
     "grade_id": "cell-051c2185fef6e4ff",
     "locked": false,
     "schema_version": 1,
     "solution": true
    }
   },
   "outputs": [
    {
     "data": {
      "text/plain": [
       "['\\ufeffThe Project Gutenberg EBook of A Christmas Carol, by Charles Dickens',\n",
       " '',\n",
       " 'This eBook is for the use of anyone anywhere at no cost and with',\n",
       " 'almost no restrictions whatsoever.  You may copy it, give it away or',\n",
       " 're-use it under the terms of the Project Gutenberg License included']"
      ]
     },
     "execution_count": 267,
     "metadata": {},
     "output_type": "execute_result"
    }
   ],
   "source": [
    "x = !head -5 publicdata/novel.txt\n",
    "#\n",
    "# YOUR CODE HERE\n",
    "x"
   ]
  },
  {
   "cell_type": "code",
   "execution_count": 257,
   "metadata": {
    "collapsed": true,
    "nbgrader": {
     "grade": true,
     "grade_id": "q20",
     "locked": true,
     "points": 5,
     "schema_version": 1,
     "solution": false
    }
   },
   "outputs": [],
   "source": [
    "# Question q20\n",
    "#\n",
    "# AUTOGRADER TEST - DO NOT REMOVE\n",
    "#\n"
   ]
  },
  {
   "cell_type": "markdown",
   "metadata": {
    "nbgrader": {
     "grade": false,
     "grade_id": "cell-33c47864f67edff0",
     "locked": true,
     "schema_version": 1,
     "solution": false
    }
   },
   "source": [
    "6.The command grep can be used to filter lines from files that match certain patterns. This is particulary useful when analyzing data files that cannot fit in memory, but in which the data of interest is relatively small (small enough to fit memory).\n",
    "\n",
    "Use the shell command 'grep' to return lines from the file 'CrimeStatebyState.csv' pertaining to the state of New York. Set the value of the variable x to the output of the shell command."
   ]
  },
  {
   "cell_type": "code",
   "execution_count": 268,
   "metadata": {
    "nbgrader": {
     "grade": false,
     "grade_id": "cell-417778355afca54d",
     "locked": false,
     "schema_version": 1,
     "solution": true
    }
   },
   "outputs": [
    {
     "data": {
      "text/plain": [
       "['New York,1965,18073000,58802,836,2320,28182,27464,495248,183443,253353,58452,325.4,4.6,12.8,155.9,152,2740.3,1015,1401.8,323.4',\n",
       " 'New York,1966,18258000,62561,882,2439,30098,29142,546904,196127,286409,64368,342.6,4.8,13.4,164.8,159.6,2995.4,1074.2,1568.7,352.5',\n",
       " 'New York,1967,18336000,75124,996,2665,40202,31261,617404,219157,314472,83775,409.7,5.4,14.5,219.3,170.5,3367.2,1195.2,1715.1,456.9',\n",
       " 'New York,1968,18113000,98515,1185,2527,59857,34946,730938,250918,375143,104877,543.9,6.5,14,330.5,192.9,4035.4,1385.3,2071.1,579',\n",
       " 'New York,1969,18321000,105870,1324,2902,64754,36890,731340,248477,367463,115400,577.9,7.2,15.8,353.4,201.4,3991.8,1356.2,2005.7,629.9',\n",
       " 'New York,1970,18190740,124613,1444,2875,81149,39145,779701,267474,386553,125674,685,7.9,15.8,446.1,215.2,4286.3,1470.4,2125,690.9',\n",
       " 'New York,1971,18391000,145048,1823,3225,97682,42318,789974,273704,388612,127658,788.7,9.9,17.5,531.1,230.1,4295.4,1488.2,2113.1,694.1',\n",
       " 'New York,1972,18366000,138542,2026,4199,86391,45926,666063,239886,321096,105081,754.3,11,22.9,470.4,250.1,3626.6,1306.1,1748.3,572.1',\n",
       " 'New York,1973,18265000,135468,2040,4852,80795,47781,678881,246246,320307,112328,741.7,11.2,26.6,442.3,261.6,3716.8,1348.2,1753.7,615',\n",
       " 'New York,1974,18111000,145427,1919,5240,86814,51454,766276,271824,390357,104095,803,10.6,28.9,479.3,284.1,4231,1500.9,2155.4,574.8',\n",
       " 'New York,1975,18120000,155187,1996,5099,93499,54593,866010,301996,447740,116274,856.4,11,28.1,516,301.3,4779.3,1666.6,2471,641.7',\n",
       " 'New York,1976,18084000,156988,1969,4663,95718,54638,968751,318919,516328,133504,868.1,10.9,25.8,529.3,302.1,5357,1763.5,2855.2,738.2',\n",
       " 'New York,1977,17924000,149087,1919,5272,84703,57193,942057,309735,498653,133669,831.8,10.7,29.4,472.6,319.1,5255.8,1728,2782,745.8',\n",
       " 'New York,1978,17748000,149257,1820,5168,83785,58484,878736,292956,466516,119264,841,10.3,29.1,472.1,329.5,4951.2,1650.6,2628.6,672',\n",
       " 'New York,1979,17649000,161906,2092,5394,93471,60949,933234,308302,500589,124343,917.4,11.9,30.6,529.6,345.3,5287.7,1746.9,2836.4,704.5',\n",
       " 'New York,1980,17506690,180235,2228,5405,112273,60329,1029749,360925,535783,133041,1029.5,12.7,30.9,641.3,344.6,5882,2061.6,3060.4,759.9',\n",
       " 'New York,1981,17594000,188178,2166,5479,120344,60189,1026757,350422,539486,136849,1069.6,12.3,31.1,684,342.1,5835.8,1991.7,3066.3,777.8',\n",
       " 'New York,1982,17659000,174833,2013,5159,107843,59818,967369,295245,534244,137880,990.1,11.4,29.2,610.7,338.7,5478.1,1671.9,3025.3,780.8',\n",
       " 'New York,1983,17667000,161489,1958,5296,94783,59452,881322,249115,504346,127861,914.1,11.1,30,536.5,336.5,4988.5,1410.1,2854.7,723.7',\n",
       " 'New York,1984,17735000,162157,1786,5599,89900,64872,826969,222956,488621,115392,914.3,10.1,31.6,506.9,365.8,4662.9,1257.2,2755.1,650.6',\n",
       " 'New York,1985,17783000,165365,1683,5706,89706,68270,828446,219633,502276,106537,929.9,9.5,32.1,504.4,383.9,4658.6,1235.1,2824.5,599.1',\n",
       " 'New York,1986,17772000,175210,1907,5415,91360,76528,849827,217010,519570,113247,985.9,10.7,30.5,514.1,430.6,4781.8,1221.1,2923.5,637.2',\n",
       " 'New York,1987,17825000,179691,2016,5537,89721,82417,881330,216826,539175,125329,1008.1,11.3,31.1,503.3,462.4,4944.3,1216.4,3024.8,703.1',\n",
       " 'New York,1988,17898000,196396,2244,5479,97434,91239,932845,218060,560887,153898,1097.3,12.5,30.6,544.4,509.8,5212,1218.3,3133.8,859.9',\n",
       " 'New York,1989,17950000,203042,2246,5242,103983,91571,926596,211130,544459,171007,1131.2,12.5,29.2,579.3,510.1,5162.1,1176.2,3033.2,952.7',\n",
       " 'New York,1990,17990455,212458,2605,5368,112380,92105,932416,208813,536012,187591,1180.9,14.5,29.8,624.7,512,5182.8,1160.7,2979.4,1042.7',\n",
       " 'New York,1991,18058000,210184,2571,5085,112342,90186,917467,204499,531681,181287,1163.9,14.2,28.2,622.1,499.4,5080.7,1132.5,2944.3,1003.9',\n",
       " 'New York,1992,18119000,203311,2397,5152,108154,87608,858178,193548,495708,168922,1122.1,13.2,28.4,596.9,483.5,4736.3,1068.2,2735.8,932.3',\n",
       " 'New York,1993,18197000,195352,2420,5008,102122,85802,814824,181709,481166,151949,1073.5,13.3,27.5,561.2,471.5,4477.8,998.6,2644.2,835',\n",
       " 'New York,1994,18169000,175433,2016,4700,86617,82100,745845,164650,452322,128873,965.6,11.1,25.9,476.7,451.9,4105,906.2,2489.5,709.3',\n",
       " 'New York,1995,18136000,152683,1550,4290,72492,74351,674342,146562,425184,102596,841.9,8.5,23.7,399.7,410,3718.3,808.1,2344.4,565.7',\n",
       " 'New York,1996,18185000,132206,1353,4174,61822,64857,619250,129828,399522,89900,727,7.4,23,340,356.7,3405.3,713.9,2197,494.4',\n",
       " 'New York,1997,18137000,124890,1093,4075,56094,63628,584438,118306,386435,79697,688.6,6,22.5,309.3,350.8,3222.4,652.3,2130.6,439.4',\n",
       " 'New York,1998,18175000,115915,924,3843,49125,62023,536287,104821,363295,68171,637.8,5.1,21.1,270.3,341.3,2950.7,576.7,1998.9,375.1',\n",
       " 'New York,1999,18196601,107147,903,3563,43821,58860,489596,93217,338118,58261,588.8,5,19.6,240.8,323.5,2690.6,512.3,1858.1,320.2',\n",
       " 'New York,2000,18976457,105111,952,3530,40539,60090,483078,87946,340901,54231,553.9,5,18.6,213.6,316.7,2545.7,463.4,1796.4,285.8',\n",
       " 'New York,2001,19084350,98022,960,3546,36555,56961,458003,80400,329316,48287,513.6,5,18.6,191.5,298.5,2399.9,421.3,1725.6,253',\n",
       " 'New York,2002,19134293,95030,909,3885,36653,53583,442091,76700,318025,47366,496.6,4.8,20.3,191.6,280,2310.5,400.9,1662.1,247.5',\n",
       " 'New York,2003,19212425,89486,934,3775,35790,48987,432079,75453,311422,45204,465.8,4.9,19.6,186.3,255,2249,392.7,1620.9,235.3',\n",
       " 'New York,2004,19280727,84914,889,3608,33506,46911,422734,70696,311036,41002,440.4,4.6,18.7,173.8,243.3,2192.5,366.7,1613.2,212.7',\n",
       " 'New York,2005,19315721,85839,874,3636,35179,46150,405990,68034,302220,35736,444,4.5,18.8,182.1,238.9,2102,352.2,1565,185',\n",
       " 'New York,2006,19306183,84016,922,3168,34459,45467,398577,68617,297827,32133,435.2,4.8,16.4,178.5,235.5,2064.5,355.4,1542.7,166.4',\n",
       " 'New York,2007,19297729,79962,805,2928,31085,45144,383624,64914,290681,28029,414.4,4.2,15.2,161.1,233.9,1987.9,336.4,1506.3,145.2',\n",
       " 'New York,2008,19490297,77546,836,2798,31787,42125,388599,65544,297962,25093,397.9,4.3,14.4,163.1,216.1,1993.8,336.3,1528.8,128.7',\n",
       " 'New York,2009,19541453,75110,781,2582,28141,43606,377537,62769,292897,21871,384.4,4,13.2,144,223.1,1932,321.2,1498.8,111.9',\n",
       " 'New York,2010,19395206,76492,868,2797,28630,44197,379710,65839,293232,20639,394.4,4.5,14.4,147.6,227.9,1957.8,339.5,1511.9,106.4',\n",
       " 'New York,2011,19501616,77463,769,2751,28405,45538,371837,65227,287361,19249,397.2,3.9,14.1,145.7,233.5,1906.7,334.5,1473.5,98.7',\n",
       " 'New York,2012,19570261,79610,684,2848,28655,47423,376140,64553,294239,17348,406.8,3.5,14.6,146.4,242.3,1922,329.9,1503.5,88.6']"
      ]
     },
     "execution_count": 268,
     "metadata": {},
     "output_type": "execute_result"
    }
   ],
   "source": [
    "x = !grep 'New York' publicdata/CrimeStatebyState.csv\n",
    "#\n",
    "# YOUR CODE HERE\n",
    "\n",
    "x"
   ]
  },
  {
   "cell_type": "code",
   "execution_count": null,
   "metadata": {
    "collapsed": true,
    "nbgrader": {
     "grade": true,
     "grade_id": "q21",
     "locked": true,
     "points": 3,
     "schema_version": 1,
     "solution": false
    }
   },
   "outputs": [],
   "source": [
    "# Question q21\n",
    "#\n",
    "# AUTOGRADER TEST - DO NOT REMOVE\n",
    "#\n"
   ]
  },
  {
   "cell_type": "markdown",
   "metadata": {
    "nbgrader": {
     "grade": false,
     "grade_id": "cell-45c02ff6147285d6",
     "locked": true,
     "schema_version": 1,
     "solution": false
    }
   },
   "source": [
    "7.Use the shell command 'cut' to return the first 3 columns of the file 'CrimeStatebyState.csv'. Set the value of the variable x to the output of the shell command."
   ]
  },
  {
   "cell_type": "code",
   "execution_count": 258,
   "metadata": {
    "nbgrader": {
     "grade": false,
     "grade_id": "cell-c3e89673ebd64d41",
     "locked": false,
     "schema_version": 1,
     "solution": true
    }
   },
   "outputs": [
    {
     "data": {
      "text/plain": [
       "['State,Year,Population',\n",
       " 'Alabama,1960,3266740',\n",
       " 'Alabama,1961,3302000',\n",
       " 'Alabama,1962,3358000',\n",
       " 'Alabama,1963,3347000',\n",
       " 'Alabama,1964,3407000',\n",
       " 'Alabama,1965,3462000',\n",
       " 'Alabama,1966,3517000',\n",
       " 'Alabama,1967,3540000',\n",
       " 'Alabama,1968,3566000',\n",
       " 'Alabama,1969,3531000',\n",
       " 'Alabama,1970,3444165',\n",
       " 'Alabama,1971,3479000',\n",
       " 'Alabama,1972,3510000',\n",
       " 'Alabama,1973,3539000',\n",
       " 'Alabama,1974,3577000',\n",
       " 'Alabama,1975,3614000',\n",
       " 'Alabama,1976,3665000',\n",
       " 'Alabama,1977,3690000',\n",
       " 'Alabama,1978,3742000',\n",
       " 'Alabama,1979,3769000',\n",
       " 'Alabama,1980,3861466',\n",
       " 'Alabama,1981,3916000',\n",
       " 'Alabama,1982,3943000',\n",
       " 'Alabama,1983,3959000',\n",
       " 'Alabama,1984,3990000',\n",
       " 'Alabama,1985,4021000',\n",
       " 'Alabama,1986,4053000',\n",
       " 'Alabama,1987,4083000',\n",
       " 'Alabama,1988,4127000',\n",
       " 'Alabama,1989,4118000',\n",
       " 'Alabama,1990,4040587',\n",
       " 'Alabama,1991,4089000',\n",
       " 'Alabama,1992,4136000',\n",
       " 'Alabama,1993,4187000',\n",
       " 'Alabama,1994,4219000',\n",
       " 'Alabama,1995,4253000',\n",
       " 'Alabama,1996,4273000',\n",
       " 'Alabama,1997,4319000',\n",
       " 'Alabama,1998,4352000',\n",
       " 'Alabama,1999,4369862',\n",
       " 'Alabama,2000,4447100',\n",
       " 'Alabama,2001,4468912',\n",
       " 'Alabama,2002,4478896',\n",
       " 'Alabama,2003,4503726',\n",
       " 'Alabama,2004,4525375',\n",
       " 'Alabama,2005,4548327',\n",
       " 'Alabama,2006,4599030',\n",
       " 'Alabama,2007,4627851',\n",
       " 'Alabama,2008,4661900',\n",
       " 'Alabama,2009,4708708',\n",
       " 'Alabama,2010,4785401',\n",
       " 'Alabama,2011,4803689',\n",
       " 'Alabama,2012,4822023',\n",
       " 'Alaska,1960,226167',\n",
       " 'Alaska,1961,234000',\n",
       " 'Alaska,1962,246000',\n",
       " 'Alaska,1963,248000',\n",
       " 'Alaska,1964,250000',\n",
       " 'Alaska,1965,253000',\n",
       " 'Alaska,1966,272000',\n",
       " 'Alaska,1967,272000',\n",
       " 'Alaska,1968,277000',\n",
       " 'Alaska,1969,282000',\n",
       " 'Alaska,1970,302173',\n",
       " 'Alaska,1971,313000',\n",
       " 'Alaska,1972,325000',\n",
       " 'Alaska,1973,330000',\n",
       " 'Alaska,1974,337000',\n",
       " 'Alaska,1975,352000',\n",
       " 'Alaska,1976,382000',\n",
       " 'Alaska,1977,407000',\n",
       " 'Alaska,1978,403000',\n",
       " 'Alaska,1979,406000',\n",
       " 'Alaska,1980,440142',\n",
       " 'Alaska,1981,412000',\n",
       " 'Alaska,1982,438000',\n",
       " 'Alaska,1983,479000',\n",
       " 'Alaska,1984,500000',\n",
       " 'Alaska,1985,521000',\n",
       " 'Alaska,1986,534000',\n",
       " 'Alaska,1987,525000',\n",
       " 'Alaska,1988,513000',\n",
       " 'Alaska,1989,527000',\n",
       " 'Alaska,1990,550043',\n",
       " 'Alaska,1991,570000',\n",
       " 'Alaska,1992,587000',\n",
       " 'Alaska,1993,599000',\n",
       " 'Alaska,1994,606000',\n",
       " 'Alaska,1995,604000',\n",
       " 'Alaska,1996,607000',\n",
       " 'Alaska,1997,609000',\n",
       " 'Alaska,1998,614000',\n",
       " 'Alaska,1999,619500',\n",
       " 'Alaska,2000,626932',\n",
       " 'Alaska,2001,633630',\n",
       " 'Alaska,2002,641482',\n",
       " 'Alaska,2003,648280',\n",
       " 'Alaska,2004,657755',\n",
       " 'Alaska,2005,663253',\n",
       " 'Alaska,2006,670053',\n",
       " 'Alaska,2007,683478',\n",
       " 'Alaska,2008,686293',\n",
       " 'Alaska,2009,698473',\n",
       " 'Alaska,2010,714146',\n",
       " 'Alaska,2011,723860',\n",
       " 'Alaska,2012,731449',\n",
       " 'Arizona,1960,1302161',\n",
       " 'Arizona,1961,1391000',\n",
       " 'Arizona,1962,1509000',\n",
       " 'Arizona,1963,1559000',\n",
       " 'Arizona,1964,1581000',\n",
       " 'Arizona,1965,1608000',\n",
       " 'Arizona,1966,1618000',\n",
       " 'Arizona,1967,1634000',\n",
       " 'Arizona,1968,1670000',\n",
       " 'Arizona,1969,1693000',\n",
       " 'Arizona,1970,1772482',\n",
       " 'Arizona,1971,1849000',\n",
       " 'Arizona,1972,1945000',\n",
       " 'Arizona,1973,2058000',\n",
       " 'Arizona,1974,2153000',\n",
       " 'Arizona,1975,2224000',\n",
       " 'Arizona,1976,2270000',\n",
       " 'Arizona,1977,2296000',\n",
       " 'Arizona,1978,2354000',\n",
       " 'Arizona,1979,2450000',\n",
       " 'Arizona,1980,2715357',\n",
       " 'Arizona,1981,2793000',\n",
       " 'Arizona,1982,2860000',\n",
       " 'Arizona,1983,2963000',\n",
       " 'Arizona,1984,3053000',\n",
       " 'Arizona,1985,3187000',\n",
       " 'Arizona,1986,3317000',\n",
       " 'Arizona,1987,3386000',\n",
       " 'Arizona,1988,3466000',\n",
       " 'Arizona,1989,3556000',\n",
       " 'Arizona,1990,3665228',\n",
       " 'Arizona,1991,3750000',\n",
       " 'Arizona,1992,3832000',\n",
       " 'Arizona,1993,3936000',\n",
       " 'Arizona,1994,4075000',\n",
       " 'Arizona,1995,4218000',\n",
       " 'Arizona,1996,4428000',\n",
       " 'Arizona,1997,4555000',\n",
       " 'Arizona,1998,4669000',\n",
       " 'Arizona,1999,4778332',\n",
       " 'Arizona,2000,5130632',\n",
       " 'Arizona,2001,5306966',\n",
       " 'Arizona,2002,5441125',\n",
       " 'Arizona,2003,5579222',\n",
       " 'Arizona,2004,5739879',\n",
       " 'Arizona,2005,5953007',\n",
       " 'Arizona,2006,6166318',\n",
       " 'Arizona,2007,6338755',\n",
       " 'Arizona,2008,6500180',\n",
       " 'Arizona,2009,6595778',\n",
       " 'Arizona,2010,6413158',\n",
       " 'Arizona,2011,6467315',\n",
       " 'Arizona,2012,6553255',\n",
       " 'Arkansas,1960,1786272',\n",
       " 'Arkansas,1961,1797000',\n",
       " 'Arkansas,1962,1823000',\n",
       " 'Arkansas,1963,1858000',\n",
       " 'Arkansas,1964,1933000',\n",
       " 'Arkansas,1965,1960000',\n",
       " 'Arkansas,1966,1955000',\n",
       " 'Arkansas,1967,1968000',\n",
       " 'Arkansas,1968,2012000',\n",
       " 'Arkansas,1969,1995000',\n",
       " 'Arkansas,1970,1923295',\n",
       " 'Arkansas,1971,1944000',\n",
       " 'Arkansas,1972,1978000',\n",
       " 'Arkansas,1973,2037000',\n",
       " 'Arkansas,1974,2062000',\n",
       " 'Arkansas,1975,2116000',\n",
       " 'Arkansas,1976,2109000',\n",
       " 'Arkansas,1977,2144000',\n",
       " 'Arkansas,1978,2186000',\n",
       " 'Arkansas,1979,2180000',\n",
       " 'Arkansas,1980,2284037',\n",
       " 'Arkansas,1981,2294000',\n",
       " 'Arkansas,1982,2291000',\n",
       " 'Arkansas,1983,2328000',\n",
       " 'Arkansas,1984,2349000',\n",
       " 'Arkansas,1985,2359000',\n",
       " 'Arkansas,1986,2372000',\n",
       " 'Arkansas,1987,2388000',\n",
       " 'Arkansas,1988,2422000',\n",
       " 'Arkansas,1989,2406000',\n",
       " 'Arkansas,1990,2350725',\n",
       " 'Arkansas,1991,2372000',\n",
       " 'Arkansas,1992,2399000',\n",
       " 'Arkansas,1993,2424000',\n",
       " 'Arkansas,1994,2453000',\n",
       " 'Arkansas,1995,2484000',\n",
       " 'Arkansas,1996,2510000',\n",
       " 'Arkansas,1997,2523000',\n",
       " 'Arkansas,1998,2538000',\n",
       " 'Arkansas,1999,2551373',\n",
       " 'Arkansas,2000,2673400',\n",
       " 'Arkansas,2001,2694698',\n",
       " 'Arkansas,2002,2706268',\n",
       " 'Arkansas,2003,2727774',\n",
       " 'Arkansas,2004,2750000',\n",
       " 'Arkansas,2005,2775708',\n",
       " 'Arkansas,2006,2810872',\n",
       " 'Arkansas,2007,2834797',\n",
       " 'Arkansas,2008,2855390',\n",
       " 'Arkansas,2009,2889450',\n",
       " 'Arkansas,2010,2921588',\n",
       " 'Arkansas,2011,2938582',\n",
       " 'Arkansas,2012,2949131',\n",
       " 'California,1960,15717204',\n",
       " 'California,1961,16397000',\n",
       " 'California,1962,16970000',\n",
       " 'California,1963,17590000',\n",
       " 'California,1964,18084000',\n",
       " 'California,1965,18602000',\n",
       " 'California,1966,18918000',\n",
       " 'California,1967,19153000',\n",
       " 'California,1968,19221000',\n",
       " 'California,1969,19443000',\n",
       " 'California,1970,19953134',\n",
       " 'California,1971,20223000',\n",
       " 'California,1972,20468000',\n",
       " 'California,1973,20601000',\n",
       " 'California,1974,20907000',\n",
       " 'California,1975,21185000',\n",
       " 'California,1976,21520000',\n",
       " 'California,1977,21896000',\n",
       " 'California,1978,22294000',\n",
       " 'California,1979,22696000',\n",
       " 'California,1980,23532680',\n",
       " 'California,1981,24159000',\n",
       " 'California,1982,24724000',\n",
       " 'California,1983,25174000',\n",
       " 'California,1984,25622000',\n",
       " 'California,1985,26365000',\n",
       " 'California,1986,26981000',\n",
       " 'California,1987,27663000',\n",
       " 'California,1988,28168000',\n",
       " 'California,1989,29063000',\n",
       " 'California,1990,29760021',\n",
       " 'California,1991,30380000',\n",
       " 'California,1992,30867000',\n",
       " 'California,1993,31211000',\n",
       " 'California,1994,31431000',\n",
       " 'California,1995,31589000',\n",
       " 'California,1996,31878000',\n",
       " 'California,1997,32268000',\n",
       " 'California,1998,32667000',\n",
       " 'California,1999,33145121',\n",
       " 'California,2000,33871648',\n",
       " 'California,2001,34600463',\n",
       " 'California,2002,35001986',\n",
       " 'California,2003,35462712',\n",
       " 'California,2004,35842038',\n",
       " 'California,2005,36154147',\n",
       " 'California,2006,36457549',\n",
       " 'California,2007,36553215',\n",
       " 'California,2008,36756666',\n",
       " 'California,2009,36961664',\n",
       " 'California,2010,37338198',\n",
       " 'California,2011,37683933',\n",
       " 'California,2012,38041430',\n",
       " 'Colorado,1960,1753947',\n",
       " 'Colorado,1961,1781000',\n",
       " 'Colorado,1962,1907000',\n",
       " 'Colorado,1963,1961000',\n",
       " 'Colorado,1964,1966000',\n",
       " 'Colorado,1965,1969000',\n",
       " 'Colorado,1966,1977000',\n",
       " 'Colorado,1967,1975000',\n",
       " 'Colorado,1968,2048000',\n",
       " 'Colorado,1969,2100000',\n",
       " 'Colorado,1970,2207259',\n",
       " 'Colorado,1971,2283000',\n",
       " 'Colorado,1972,2357000',\n",
       " 'Colorado,1973,2437000',\n",
       " 'Colorado,1974,2496000',\n",
       " 'Colorado,1975,2534000',\n",
       " 'Colorado,1976,2583000',\n",
       " 'Colorado,1977,2619000',\n",
       " 'Colorado,1978,2670000',\n",
       " 'Colorado,1979,2772000',\n",
       " 'Colorado,1980,2878407',\n",
       " 'Colorado,1981,2963000',\n",
       " 'Colorado,1982,3045000',\n",
       " 'Colorado,1983,3139000',\n",
       " 'Colorado,1984,3178000',\n",
       " 'Colorado,1985,3231000',\n",
       " 'Colorado,1986,3267000',\n",
       " 'Colorado,1987,3296000',\n",
       " 'Colorado,1988,3290000',\n",
       " 'Colorado,1989,3317000',\n",
       " 'Colorado,1990,3294394',\n",
       " 'Colorado,1991,3377000',\n",
       " 'Colorado,1992,3470000',\n",
       " 'Colorado,1993,3566000',\n",
       " 'Colorado,1994,3656000',\n",
       " 'Colorado,1995,3747000',\n",
       " 'Colorado,1996,3823000',\n",
       " 'Colorado,1997,3893000',\n",
       " 'Colorado,1998,3971000',\n",
       " 'Colorado,1999,4056133',\n",
       " 'Colorado,2000,4301261',\n",
       " 'Colorado,2001,4430989',\n",
       " 'Colorado,2002,4501051',\n",
       " 'Colorado,2003,4547633',\n",
       " 'Colorado,2004,4601821',\n",
       " 'Colorado,2005,4663295',\n",
       " 'Colorado,2006,4753377',\n",
       " 'Colorado,2007,4861515',\n",
       " 'Colorado,2008,4939456',\n",
       " 'Colorado,2009,5024748',\n",
       " 'Colorado,2010,5047692',\n",
       " 'Colorado,2011,5116302',\n",
       " 'Colorado,2012,5187582',\n",
       " 'Connecticut,1960,2535234',\n",
       " 'Connecticut,1961,2614000',\n",
       " 'Connecticut,1962,2597000',\n",
       " 'Connecticut,1963,2666000',\n",
       " 'Connecticut,1964,2766000',\n",
       " 'Connecticut,1965,2832000',\n",
       " 'Connecticut,1966,2875000',\n",
       " 'Connecticut,1967,2925000',\n",
       " 'Connecticut,1968,2959000',\n",
       " 'Connecticut,1969,3000000',\n",
       " 'Connecticut,1970,3032217',\n",
       " 'Connecticut,1971,3081000',\n",
       " 'Connecticut,1972,3082000',\n",
       " 'Connecticut,1973,3076000',\n",
       " 'Connecticut,1974,3088000',\n",
       " 'Connecticut,1975,3095000',\n",
       " 'Connecticut,1976,3117000',\n",
       " 'Connecticut,1977,3108000',\n",
       " 'Connecticut,1978,3099000',\n",
       " 'Connecticut,1979,3115000',\n",
       " 'Connecticut,1980,3095224',\n",
       " 'Connecticut,1981,3132000',\n",
       " 'Connecticut,1982,3153000',\n",
       " 'Connecticut,1983,3138000',\n",
       " 'Connecticut,1984,3154000',\n",
       " 'Connecticut,1985,3174000',\n",
       " 'Connecticut,1986,3189000',\n",
       " 'Connecticut,1987,3211000',\n",
       " 'Connecticut,1988,3241000',\n",
       " 'Connecticut,1989,3239000',\n",
       " 'Connecticut,1990,3287116',\n",
       " 'Connecticut,1991,3291000',\n",
       " 'Connecticut,1992,3281000',\n",
       " 'Connecticut,1993,3277000',\n",
       " 'Connecticut,1994,3275000',\n",
       " 'Connecticut,1995,3275000',\n",
       " 'Connecticut,1996,3274000',\n",
       " 'Connecticut,1997,3270000',\n",
       " 'Connecticut,1998,3274000',\n",
       " 'Connecticut,1999,3282031',\n",
       " 'Connecticut,2000,3405565',\n",
       " 'Connecticut,2001,3434602',\n",
       " 'Connecticut,2002,3458587',\n",
       " 'Connecticut,2003,3486960',\n",
       " 'Connecticut,2004,3498966',\n",
       " 'Connecticut,2005,3500701',\n",
       " 'Connecticut,2006,3504809',\n",
       " 'Connecticut,2007,3502309',\n",
       " 'Connecticut,2008,3501252',\n",
       " 'Connecticut,2009,3518288',\n",
       " 'Connecticut,2010,3575498',\n",
       " 'Connecticut,2011,3586717',\n",
       " 'Connecticut,2012,3590347',\n",
       " 'Delaware,1960,446292',\n",
       " 'Delaware,1961,458000',\n",
       " 'Delaware,1962,469000',\n",
       " 'Delaware,1963,476000',\n",
       " 'Delaware,1964,491000',\n",
       " 'Delaware,1965,505000',\n",
       " 'Delaware,1966,512000',\n",
       " 'Delaware,1967,524000',\n",
       " 'Delaware,1968,534000',\n",
       " 'Delaware,1969,540000',\n",
       " 'Delaware,1970,548104',\n",
       " 'Delaware,1971,558000',\n",
       " 'Delaware,1972,565000',\n",
       " 'Delaware,1973,576000',\n",
       " 'Delaware,1974,573000',\n",
       " 'Delaware,1975,579000',\n",
       " 'Delaware,1976,582000',\n",
       " 'Delaware,1977,582000',\n",
       " 'Delaware,1978,583000',\n",
       " 'Delaware,1979,582000',\n",
       " 'Delaware,1980,594779',\n",
       " 'Delaware,1981,598000',\n",
       " 'Delaware,1982,602000',\n",
       " 'Delaware,1983,606000',\n",
       " 'Delaware,1984,613000',\n",
       " 'Delaware,1985,622000',\n",
       " 'Delaware,1986,633000',\n",
       " 'Delaware,1987,644000',\n",
       " 'Delaware,1988,660000',\n",
       " 'Delaware,1989,673000',\n",
       " 'Delaware,1990,666168',\n",
       " 'Delaware,1991,680000',\n",
       " 'Delaware,1992,689000',\n",
       " 'Delaware,1993,700000',\n",
       " 'Delaware,1994,706000',\n",
       " 'Delaware,1995,717000',\n",
       " 'Delaware,1996,725000',\n",
       " 'Delaware,1997,732000',\n",
       " 'Delaware,1998,744000',\n",
       " 'Delaware,1999,753538',\n",
       " 'Delaware,2000,783600',\n",
       " 'Delaware,2001,796599',\n",
       " 'Delaware,2002,805945',\n",
       " 'Delaware,2003,818166',\n",
       " 'Delaware,2004,830069',\n",
       " 'Delaware,2005,841741',\n",
       " 'Delaware,2006,853476',\n",
       " 'Delaware,2007,864764',\n",
       " 'Delaware,2008,873092',\n",
       " 'Delaware,2009,885122',\n",
       " 'Delaware,2010,899792',\n",
       " 'Delaware,2011,908137',\n",
       " 'Delaware,2012,917092',\n",
       " 'District of Columbia,1960,763956',\n",
       " 'District of Columbia,1961,763956',\n",
       " 'District of Columbia,1962,784000',\n",
       " 'District of Columbia,1963,798000',\n",
       " 'District of Columbia,1964,808000',\n",
       " 'District of Columbia,1965,803000',\n",
       " 'District of Columbia,1966,808000',\n",
       " 'District of Columbia,1967,809000',\n",
       " 'District of Columbia,1968,809000',\n",
       " 'District of Columbia,1969,798000',\n",
       " 'District of Columbia,1970,756510',\n",
       " 'District of Columbia,1971,741000',\n",
       " 'District of Columbia,1972,748000',\n",
       " 'District of Columbia,1973,746000',\n",
       " 'District of Columbia,1974,723000',\n",
       " 'District of Columbia,1975,716000',\n",
       " 'District of Columbia,1976,702000',\n",
       " 'District of Columbia,1977,690000',\n",
       " 'District of Columbia,1978,674000',\n",
       " 'District of Columbia,1979,656000',\n",
       " 'District of Columbia,1980,635233',\n",
       " 'District of Columbia,1981,636000',\n",
       " 'District of Columbia,1982,631000',\n",
       " 'District of Columbia,1983,623000',\n",
       " 'District of Columbia,1984,623000',\n",
       " 'District of Columbia,1985,626000',\n",
       " 'District of Columbia,1986,626000',\n",
       " 'District of Columbia,1987,622000',\n",
       " 'District of Columbia,1988,620000',\n",
       " 'District of Columbia,1989,604000',\n",
       " 'District of Columbia,1990,606900',\n",
       " 'District of Columbia,1991,598000',\n",
       " 'District of Columbia,1992,589000',\n",
       " 'District of Columbia,1993,578000',\n",
       " 'District of Columbia,1994,570000',\n",
       " 'District of Columbia,1995,554000',\n",
       " 'District of Columbia,1996,543000',\n",
       " 'District of Columbia,1997,529000',\n",
       " 'District of Columbia,1998,523000',\n",
       " 'District of Columbia,1999,519000',\n",
       " 'District of Columbia,2000,572059',\n",
       " 'District of Columbia,2001,573822',\n",
       " 'District of Columbia,2002,569157',\n",
       " 'District of Columbia,2003,557620',\n",
       " 'District of Columbia,2004,554239',\n",
       " 'District of Columbia,2005,582049',\n",
       " 'District of Columbia,2006,581530',\n",
       " 'District of Columbia,2007,588292',\n",
       " 'District of Columbia,2008,591833',\n",
       " 'District of Columbia,2009,599657',\n",
       " 'District of Columbia,2010,604912',\n",
       " 'District of Columbia,2011,619020',\n",
       " 'District of Columbia,2012,632323',\n",
       " 'Florida,1960,4951560',\n",
       " 'Florida,1961,5222000',\n",
       " 'Florida,1962,5459000',\n",
       " 'Florida,1963,5652000',\n",
       " 'Florida,1964,5705000',\n",
       " 'Florida,1965,5805000',\n",
       " 'Florida,1966,5941000',\n",
       " 'Florida,1967,5995000',\n",
       " 'Florida,1968,6160000',\n",
       " 'Florida,1969,6354000',\n",
       " 'Florida,1970,6789443',\n",
       " 'Florida,1971,7041000',\n",
       " 'Florida,1972,7259000',\n",
       " 'Florida,1973,7678000',\n",
       " 'Florida,1974,8090000',\n",
       " 'Florida,1975,8357000',\n",
       " 'Florida,1976,8421000',\n",
       " 'Florida,1977,8452000',\n",
       " 'Florida,1978,8594000',\n",
       " 'Florida,1979,8860000',\n",
       " 'Florida,1980,9567112',\n",
       " 'Florida,1981,10166000',\n",
       " 'Florida,1982,10416000',\n",
       " 'Florida,1983,10680000',\n",
       " 'Florida,1984,10976000',\n",
       " 'Florida,1985,11366000',\n",
       " 'Florida,1986,11675000',\n",
       " 'Florida,1987,12023000',\n",
       " 'Florida,1988,12377000',\n",
       " 'Florida,1989,12671000',\n",
       " 'Florida,1990,12937926',\n",
       " 'Florida,1991,13277000',\n",
       " 'Florida,1992,13488000',\n",
       " 'Florida,1993,13679000',\n",
       " 'Florida,1994,13953000',\n",
       " 'Florida,1995,14166000',\n",
       " 'Florida,1996,14400000',\n",
       " 'Florida,1997,14654000',\n",
       " 'Florida,1998,14916000',\n",
       " 'Florida,1999,15111244',\n",
       " 'Florida,2000,15982378',\n",
       " 'Florida,2001,16373330',\n",
       " 'Florida,2002,16691701',\n",
       " 'Florida,2003,16999181',\n",
       " 'Florida,2004,17385430',\n",
       " 'Florida,2005,17768191',\n",
       " 'Florida,2006,18089888',\n",
       " 'Florida,2007,18251243',\n",
       " 'Florida,2008,18328340',\n",
       " 'Florida,2009,18537969',\n",
       " 'Florida,2010,18838613',\n",
       " 'Florida,2011,19082262',\n",
       " 'Florida,2012,19317568',\n",
       " 'Georgia,1960,3943116',\n",
       " 'Georgia,1961,3987000',\n",
       " 'Georgia,1962,4100000',\n",
       " 'Georgia,1963,4140000',\n",
       " 'Georgia,1964,4294000',\n",
       " 'Georgia,1965,4357000',\n",
       " 'Georgia,1966,4459000',\n",
       " 'Georgia,1967,4509000',\n",
       " 'Georgia,1968,4588000',\n",
       " 'Georgia,1969,4641000',\n",
       " 'Georgia,1970,4589575',\n",
       " 'Georgia,1971,4664000',\n",
       " 'Georgia,1972,4720000',\n",
       " 'Georgia,1973,4786000',\n",
       " 'Georgia,1974,4882000',\n",
       " 'Georgia,1975,4926000',\n",
       " 'Georgia,1976,4970000',\n",
       " 'Georgia,1977,5048000',\n",
       " 'Georgia,1978,5084000',\n",
       " 'Georgia,1979,5118000',\n",
       " 'Georgia,1980,5400851',\n",
       " 'Georgia,1981,5569000',\n",
       " 'Georgia,1982,5639000',\n",
       " 'Georgia,1983,5732000',\n",
       " 'Georgia,1984,5837000',\n",
       " 'Georgia,1985,5976000',\n",
       " 'Georgia,1986,6104000',\n",
       " 'Georgia,1987,6222000',\n",
       " 'Georgia,1988,6401000',\n",
       " 'Georgia,1989,6436000',\n",
       " 'Georgia,1990,6478216',\n",
       " 'Georgia,1991,6623000',\n",
       " 'Georgia,1992,6751000',\n",
       " 'Georgia,1993,6917000',\n",
       " 'Georgia,1994,7055000',\n",
       " 'Georgia,1995,7201000',\n",
       " 'Georgia,1996,7353000',\n",
       " 'Georgia,1997,7486000',\n",
       " 'Georgia,1998,7642000',\n",
       " 'Georgia,1999,7788240',\n",
       " 'Georgia,2000,8186453',\n",
       " 'Georgia,2001,8405677',\n",
       " 'Georgia,2002,8544005',\n",
       " 'Georgia,2003,8676460',\n",
       " 'Georgia,2004,8918129',\n",
       " 'Georgia,2005,9132553',\n",
       " 'Georgia,2006,9363941',\n",
       " 'Georgia,2007,9544750',\n",
       " 'Georgia,2008,9685744',\n",
       " 'Georgia,2009,9829211',\n",
       " 'Georgia,2010,9712157',\n",
       " 'Georgia,2011,9812460',\n",
       " 'Georgia,2012,9919945',\n",
       " 'Hawaii,1960,632772',\n",
       " 'Hawaii,1961,657000',\n",
       " 'Hawaii,1962,693000',\n",
       " 'Hawaii,1963,694000',\n",
       " 'Hawaii,1964,701000',\n",
       " 'Hawaii,1965,711000',\n",
       " 'Hawaii,1966,718000',\n",
       " 'Hawaii,1967,739000',\n",
       " 'Hawaii,1968,778000',\n",
       " 'Hawaii,1969,794000',\n",
       " 'Hawaii,1970,769913',\n",
       " 'Hawaii,1971,789000',\n",
       " 'Hawaii,1972,809000',\n",
       " 'Hawaii,1973,832000',\n",
       " 'Hawaii,1974,847000',\n",
       " 'Hawaii,1975,865000',\n",
       " 'Hawaii,1976,887000',\n",
       " 'Hawaii,1977,895000',\n",
       " 'Hawaii,1978,897000',\n",
       " 'Hawaii,1979,915000',\n",
       " 'Hawaii,1980,964680',\n",
       " 'Hawaii,1981,979000',\n",
       " 'Hawaii,1982,994000',\n",
       " 'Hawaii,1983,1023000',\n",
       " 'Hawaii,1984,1039000',\n",
       " 'Hawaii,1985,1054000',\n",
       " 'Hawaii,1986,1062000',\n",
       " 'Hawaii,1987,1083000',\n",
       " 'Hawaii,1988,1093000',\n",
       " 'Hawaii,1989,1112000',\n",
       " 'Hawaii,1990,1108229',\n",
       " 'Hawaii,1991,1135000',\n",
       " 'Hawaii,1992,1160000',\n",
       " 'Hawaii,1993,1172000',\n",
       " 'Hawaii,1994,1179000',\n",
       " 'Hawaii,1995,1187000',\n",
       " 'Hawaii,1996,1184000',\n",
       " 'Hawaii,1997,1187000',\n",
       " 'Hawaii,1998,1193000',\n",
       " 'Hawaii,1999,1185497',\n",
       " 'Hawaii,2000,1211537',\n",
       " 'Hawaii,2001,1227024',\n",
       " 'Hawaii,2002,1240663',\n",
       " 'Hawaii,2003,1248755',\n",
       " 'Hawaii,2004,1262124',\n",
       " 'Hawaii,2005,1273278',\n",
       " 'Hawaii,2006,1285498',\n",
       " 'Hawaii,2007,1283388',\n",
       " 'Hawaii,2008,1288198',\n",
       " 'Hawaii,2009,1295178',\n",
       " 'Hawaii,2010,1363359',\n",
       " 'Hawaii,2011,1378129',\n",
       " 'Hawaii,2012,1392313',\n",
       " 'Idaho,1960,667191',\n",
       " 'Idaho,1961,684000',\n",
       " 'Idaho,1962,698000',\n",
       " 'Idaho,1963,713000',\n",
       " 'Idaho,1964,692000',\n",
       " 'Idaho,1965,692000',\n",
       " 'Idaho,1966,694000',\n",
       " 'Idaho,1967,699000',\n",
       " 'Idaho,1968,705000',\n",
       " 'Idaho,1969,718000',\n",
       " 'Idaho,1970,713008',\n",
       " 'Idaho,1971,732000',\n",
       " 'Idaho,1972,756000',\n",
       " 'Idaho,1973,770000',\n",
       " 'Idaho,1974,799000',\n",
       " 'Idaho,1975,820000',\n",
       " 'Idaho,1976,831000',\n",
       " 'Idaho,1977,857000',\n",
       " 'Idaho,1978,878000',\n",
       " 'Idaho,1979,905000',\n",
       " 'Idaho,1980,943629',\n",
       " 'Idaho,1981,959000',\n",
       " 'Idaho,1982,965000',\n",
       " 'Idaho,1983,989000',\n",
       " 'Idaho,1984,1001000',\n",
       " 'Idaho,1985,1005000',\n",
       " 'Idaho,1986,1003000',\n",
       " 'Idaho,1987,998000',\n",
       " 'Idaho,1988,999000',\n",
       " 'Idaho,1989,1014000',\n",
       " 'Idaho,1990,1006749',\n",
       " 'Idaho,1991,1039000',\n",
       " 'Idaho,1992,1067000',\n",
       " 'Idaho,1993,1099000',\n",
       " 'Idaho,1994,1133000',\n",
       " 'Idaho,1995,1163000',\n",
       " 'Idaho,1996,1189000',\n",
       " 'Idaho,1997,1210000',\n",
       " 'Idaho,1998,1229000',\n",
       " 'Idaho,1999,1251700',\n",
       " 'Idaho,2000,1293953',\n",
       " 'Idaho,2001,1320585',\n",
       " 'Idaho,2002,1343124',\n",
       " 'Idaho,2003,1367034',\n",
       " 'Idaho,2004,1395140',\n",
       " 'Idaho,2005,1429367',\n",
       " 'Idaho,2006,1466465',\n",
       " 'Idaho,2007,1499402',\n",
       " 'Idaho,2008,1523816',\n",
       " 'Idaho,2009,1545801',\n",
       " 'Idaho,2010,1571102',\n",
       " 'Idaho,2011,1583744',\n",
       " 'Idaho,2012,1595728',\n",
       " 'Illinois,1960,10081158',\n",
       " 'Illinois,1961,10258000',\n",
       " 'Illinois,1962,10146000',\n",
       " 'Illinois,1963,10182000',\n",
       " 'Illinois,1964,10489000',\n",
       " 'Illinois,1965,10644000',\n",
       " 'Illinois,1966,10722000',\n",
       " 'Illinois,1967,10893000',\n",
       " 'Illinois,1968,10974000',\n",
       " 'Illinois,1969,11047000',\n",
       " 'Illinois,1970,11113976',\n",
       " 'Illinois,1971,11196000',\n",
       " 'Illinois,1972,11251000',\n",
       " 'Illinois,1973,11236000',\n",
       " 'Illinois,1974,11131000',\n",
       " 'Illinois,1975,11145000',\n",
       " 'Illinois,1976,11229000',\n",
       " 'Illinois,1977,11245000',\n",
       " 'Illinois,1978,11243000',\n",
       " 'Illinois,1979,11230000',\n",
       " 'Illinois,1980,11355062',\n",
       " 'Illinois,1981,11455000',\n",
       " 'Illinois,1982,11448000',\n",
       " 'Illinois,1983,11486000',\n",
       " 'Illinois,1984,11511000',\n",
       " 'Illinois,1985,11535000',\n",
       " 'Illinois,1986,11533000',\n",
       " 'Illinois,1987,11582000',\n",
       " 'Illinois,1988,11544000',\n",
       " 'Illinois,1989,11658000',\n",
       " 'Illinois,1990,11430602',\n",
       " 'Illinois,1991,11543000',\n",
       " 'Illinois,1992,11631000',\n",
       " 'Illinois,1993,11697000',\n",
       " 'Illinois,1994,11752000',\n",
       " 'Illinois,1995,11830000',\n",
       " 'Illinois,1996,11847000',\n",
       " 'Illinois,1997,11896000',\n",
       " 'Illinois,1998,12045000',\n",
       " 'Illinois,1999,12128370',\n",
       " 'Illinois,2000,12419293',\n",
       " 'Illinois,2001,12520227',\n",
       " 'Illinois,2002,12586447',\n",
       " 'Illinois,2003,12649087',\n",
       " 'Illinois,2004,12712016',\n",
       " 'Illinois,2005,12765427',\n",
       " 'Illinois,2006,12831970',\n",
       " 'Illinois,2007,12852548',\n",
       " 'Illinois,2008,12901563',\n",
       " 'Illinois,2009,12910409',\n",
       " 'Illinois,2010,12841980',\n",
       " 'Illinois,2011,12859752',\n",
       " 'Illinois,2012,12875255',\n",
       " 'Indiana,1960,4662498',\n",
       " 'Indiana,1961,4711000',\n",
       " 'Indiana,1962,4715000',\n",
       " 'Indiana,1963,4694000',\n",
       " 'Indiana,1964,4825000',\n",
       " 'Indiana,1965,4885000',\n",
       " 'Indiana,1966,4918000',\n",
       " 'Indiana,1967,5000000',\n",
       " 'Indiana,1968,5067000',\n",
       " 'Indiana,1969,5118000',\n",
       " 'Indiana,1970,5193669',\n",
       " 'Indiana,1971,5274000',\n",
       " 'Indiana,1972,5291000',\n",
       " 'Indiana,1973,5316000',\n",
       " 'Indiana,1974,5330000',\n",
       " 'Indiana,1975,5311000',\n",
       " 'Indiana,1976,5302000',\n",
       " 'Indiana,1977,5330000',\n",
       " 'Indiana,1978,5374000',\n",
       " 'Indiana,1979,5400000',\n",
       " 'Indiana,1980,5461103',\n",
       " 'Indiana,1981,5466000',\n",
       " 'Indiana,1982,5471000',\n",
       " 'Indiana,1983,5479000',\n",
       " 'Indiana,1984,5498000',\n",
       " 'Indiana,1985,5499000',\n",
       " 'Indiana,1986,5504000',\n",
       " 'Indiana,1987,5531000',\n",
       " 'Indiana,1988,5575000',\n",
       " 'Indiana,1989,5593000',\n",
       " 'Indiana,1990,5544159',\n",
       " 'Indiana,1991,5610000',\n",
       " 'Indiana,1992,5662000',\n",
       " 'Indiana,1993,5713000',\n",
       " 'Indiana,1994,5752000',\n",
       " 'Indiana,1995,5803000',\n",
       " 'Indiana,1996,5841000',\n",
       " 'Indiana,1997,5864000',\n",
       " 'Indiana,1998,5899000',\n",
       " 'Indiana,1999,5942901',\n",
       " 'Indiana,2000,6080485',\n",
       " 'Indiana,2001,6126743',\n",
       " 'Indiana,2002,6156913',\n",
       " 'Indiana,2003,6199571',\n",
       " 'Indiana,2004,6226537',\n",
       " 'Indiana,2005,6266019',\n",
       " 'Indiana,2006,6313520',\n",
       " 'Indiana,2007,6345289',\n",
       " 'Indiana,2008,6376792',\n",
       " 'Indiana,2009,6423113',\n",
       " 'Indiana,2010,6490622',\n",
       " 'Indiana,2011,6516353',\n",
       " 'Indiana,2012,6537334',\n",
       " 'Iowa,1960,2757537',\n",
       " 'Iowa,1961,2779000',\n",
       " 'Iowa,1962,2777000',\n",
       " 'Iowa,1963,2780000',\n",
       " 'Iowa,1964,2756000',\n",
       " 'Iowa,1965,2760000',\n",
       " 'Iowa,1966,2747000',\n",
       " 'Iowa,1967,2753000',\n",
       " 'Iowa,1968,2748000',\n",
       " 'Iowa,1969,2781000',\n",
       " 'Iowa,1970,2825041',\n",
       " 'Iowa,1971,2852000',\n",
       " 'Iowa,1972,2883000',\n",
       " 'Iowa,1973,2904000',\n",
       " 'Iowa,1974,2855000',\n",
       " 'Iowa,1975,2870000',\n",
       " 'Iowa,1976,2870000',\n",
       " 'Iowa,1977,2879000',\n",
       " 'Iowa,1978,2896000',\n",
       " 'Iowa,1979,2903000',\n",
       " 'Iowa,1980,2907804',\n",
       " 'Iowa,1981,2897000',\n",
       " 'Iowa,1982,2905000',\n",
       " 'Iowa,1983,2905000',\n",
       " 'Iowa,1984,2910000',\n",
       " 'Iowa,1985,2884000',\n",
       " 'Iowa,1986,2851000',\n",
       " 'Iowa,1987,2834000',\n",
       " 'Iowa,1988,2834000',\n",
       " 'Iowa,1989,2840000',\n",
       " 'Iowa,1990,2776755',\n",
       " 'Iowa,1991,2795000',\n",
       " 'Iowa,1992,2812000',\n",
       " 'Iowa,1993,2814000',\n",
       " 'Iowa,1994,2829000',\n",
       " 'Iowa,1995,2842000',\n",
       " 'Iowa,1996,2852000',\n",
       " 'Iowa,1997,2852000',\n",
       " 'Iowa,1998,2862000',\n",
       " 'Iowa,1999,2869413',\n",
       " 'Iowa,2000,2926324',\n",
       " 'Iowa,2001,2931967',\n",
       " 'Iowa,2002,2935840',\n",
       " 'Iowa,2003,2941976',\n",
       " 'Iowa,2004,2952904',\n",
       " 'Iowa,2005,2965524',\n",
       " 'Iowa,2006,2982085',\n",
       " 'Iowa,2007,2988046',\n",
       " 'Iowa,2008,3002555',\n",
       " 'Iowa,2009,3007856',\n",
       " 'Iowa,2010,3050202',\n",
       " 'Iowa,2011,3064097',\n",
       " 'Iowa,2012,3074186',\n",
       " 'Kansas,1960,2178611',\n",
       " 'Kansas,1961,2194000',\n",
       " 'Kansas,1962,2219000',\n",
       " 'Kansas,1963,2225000',\n",
       " 'Kansas,1964,2225000',\n",
       " 'Kansas,1965,2234000',\n",
       " 'Kansas,1966,2250000',\n",
       " 'Kansas,1967,2275000',\n",
       " 'Kansas,1968,2303000',\n",
       " 'Kansas,1969,2321000',\n",
       " 'Kansas,1970,2249071',\n",
       " 'Kansas,1971,2258000',\n",
       " 'Kansas,1972,2258000',\n",
       " 'Kansas,1973,2279000',\n",
       " 'Kansas,1974,2270000',\n",
       " 'Kansas,1975,2267000',\n",
       " 'Kansas,1976,2310000',\n",
       " 'Kansas,1977,2326000',\n",
       " 'Kansas,1978,2348000',\n",
       " 'Kansas,1979,2369000',\n",
       " 'Kansas,1980,2354783',\n",
       " 'Kansas,1981,2381000',\n",
       " 'Kansas,1982,2408000',\n",
       " 'Kansas,1983,2425000',\n",
       " 'Kansas,1984,2438000',\n",
       " 'Kansas,1985,2450000',\n",
       " 'Kansas,1986,2461000',\n",
       " 'Kansas,1987,2476000',\n",
       " 'Kansas,1988,2487000',\n",
       " 'Kansas,1989,2513000',\n",
       " 'Kansas,1990,2477574',\n",
       " 'Kansas,1991,2495000',\n",
       " 'Kansas,1992,2523000',\n",
       " 'Kansas,1993,2531000',\n",
       " 'Kansas,1994,2554000',\n",
       " 'Kansas,1995,2565000',\n",
       " 'Kansas,1996,2572000',\n",
       " 'Kansas,1997,2595000',\n",
       " 'Kansas,1998,2629000',\n",
       " 'Kansas,1999,2654052',\n",
       " 'Kansas,2000,2688418',\n",
       " 'Kansas,2001,2702125',\n",
       " 'Kansas,2002,2711769',\n",
       " 'Kansas,2003,2724786',\n",
       " 'Kansas,2004,2733697',\n",
       " 'Kansas,2005,2748172',\n",
       " 'Kansas,2006,2764075',\n",
       " 'Kansas,2007,2775997',\n",
       " 'Kansas,2008,2802134',\n",
       " 'Kansas,2009,2818747',\n",
       " 'Kansas,2010,2859143',\n",
       " 'Kansas,2011,2870386',\n",
       " 'Kansas,2012,2885905',\n",
       " 'Kentucky,1960,3038156',\n",
       " 'Kentucky,1961,3076000',\n",
       " 'Kentucky,1962,3082000',\n",
       " 'Kentucky,1963,3095000',\n",
       " 'Kentucky,1964,3159000',\n",
       " 'Kentucky,1965,3179000',\n",
       " 'Kentucky,1966,3183000',\n",
       " 'Kentucky,1967,3189000',\n",
       " 'Kentucky,1968,3229000',\n",
       " 'Kentucky,1969,3232000',\n",
       " 'Kentucky,1970,3219311',\n",
       " 'Kentucky,1971,3282000',\n",
       " 'Kentucky,1972,3299000',\n",
       " 'Kentucky,1973,3342000',\n",
       " 'Kentucky,1974,3357000',\n",
       " 'Kentucky,1975,3396000',\n",
       " 'Kentucky,1976,3428000',\n",
       " 'Kentucky,1977,3458000',\n",
       " 'Kentucky,1978,3498000',\n",
       " 'Kentucky,1979,3527000',\n",
       " 'Kentucky,1980,3641479',\n",
       " 'Kentucky,1981,3661000',\n",
       " 'Kentucky,1982,3667000',\n",
       " 'Kentucky,1983,3714000',\n",
       " 'Kentucky,1984,3723000',\n",
       " 'Kentucky,1985,3726000',\n",
       " 'Kentucky,1986,3728000',\n",
       " 'Kentucky,1987,3727000',\n",
       " 'Kentucky,1988,3721000',\n",
       " 'Kentucky,1989,3727000',\n",
       " 'Kentucky,1990,3685296',\n",
       " 'Kentucky,1991,3713000',\n",
       " 'Kentucky,1992,3755000',\n",
       " 'Kentucky,1993,3789000',\n",
       " 'Kentucky,1994,3827000',\n",
       " 'Kentucky,1995,3860000',\n",
       " 'Kentucky,1996,3884000',\n",
       " 'Kentucky,1997,3908000',\n",
       " 'Kentucky,1998,3936000',\n",
       " 'Kentucky,1999,3960825',\n",
       " 'Kentucky,2000,4041769',\n",
       " 'Kentucky,2001,4068816',\n",
       " 'Kentucky,2002,4089822',\n",
       " 'Kentucky,2003,4118189',\n",
       " 'Kentucky,2004,4141835',\n",
       " 'Kentucky,2005,4172608',\n",
       " 'Kentucky,2006,4206074',\n",
       " 'Kentucky,2007,4241474',\n",
       " 'Kentucky,2008,4269245',\n",
       " 'Kentucky,2009,4314113',\n",
       " 'Kentucky,2010,4347223',\n",
       " 'Kentucky,2011,4366814',\n",
       " 'Kentucky,2012,4380415',\n",
       " 'Louisiana,1960,3257022',\n",
       " 'Louisiana,1961,3321000',\n",
       " 'Louisiana,1962,3330000',\n",
       " 'Louisiana,1963,3418000',\n",
       " 'Louisiana,1964,3468000',\n",
       " 'Louisiana,1965,3534000',\n",
       " 'Louisiana,1966,3603000',\n",
       " 'Louisiana,1967,3662000',\n",
       " 'Louisiana,1968,3732000',\n",
       " 'Louisiana,1969,3745000',\n",
       " 'Louisiana,1970,3643180',\n",
       " 'Louisiana,1971,3681000',\n",
       " 'Louisiana,1972,3720000',\n",
       " 'Louisiana,1973,3764000',\n",
       " 'Louisiana,1974,3764000',\n",
       " 'Louisiana,1975,3791000',\n",
       " 'Louisiana,1976,3841000',\n",
       " 'Louisiana,1977,3921000',\n",
       " 'Louisiana,1978,3966000',\n",
       " 'Louisiana,1979,4026000',\n",
       " 'Louisiana,1980,4199542',\n",
       " 'Louisiana,1981,4305000',\n",
       " 'Louisiana,1982,4362000',\n",
       " 'Louisiana,1983,4438000',\n",
       " 'Louisiana,1984,4462000',\n",
       " 'Louisiana,1985,4481000',\n",
       " 'Louisiana,1986,4501000',\n",
       " 'Louisiana,1987,4461000',\n",
       " 'Louisiana,1988,4420000',\n",
       " 'Louisiana,1989,4382000',\n",
       " 'Louisiana,1990,4219973',\n",
       " 'Louisiana,1991,4252000',\n",
       " 'Louisiana,1992,4287000',\n",
       " 'Louisiana,1993,4295000',\n",
       " 'Louisiana,1994,4315000',\n",
       " 'Louisiana,1995,4342000',\n",
       " 'Louisiana,1996,4351000',\n",
       " 'Louisiana,1997,4352000',\n",
       " 'Louisiana,1998,4369000',\n",
       " 'Louisiana,1999,4372035',\n",
       " 'Louisiana,2000,4468976',\n",
       " 'Louisiana,2001,4470368',\n",
       " 'Louisiana,2002,4476192',\n",
       " 'Louisiana,2003,4493665',\n",
       " 'Louisiana,2004,4506685',\n",
       " ...]"
      ]
     },
     "execution_count": 258,
     "metadata": {},
     "output_type": "execute_result"
    }
   ],
   "source": [
    "x=!cut -f 1-3 -d ',' 'publicdata/CrimeStatebyState.csv'\n",
    "x\n",
    "#\n",
    "# YOUR CODE HERE\n",
    "#\n"
   ]
  },
  {
   "cell_type": "code",
   "execution_count": null,
   "metadata": {
    "collapsed": true,
    "nbgrader": {
     "grade": true,
     "grade_id": "q22",
     "locked": true,
     "points": 3,
     "schema_version": 1,
     "solution": false
    }
   },
   "outputs": [],
   "source": [
    "# Question q22\n",
    "#\n",
    "# AUTOGRADER TEST - DO NOT REMOVE\n",
    "#\n"
   ]
  }
 ],
 "metadata": {
  "anaconda-cloud": [],
  "celltoolbar": "Create Assignment",
  "kernelspec": {
   "display_name": "Python 3",
   "language": "python",
   "name": "python3"
  },
  "language_info": {
   "codemirror_mode": {
    "name": "ipython",
    "version": 3
   },
   "file_extension": ".py",
   "mimetype": "text/x-python",
   "name": "python",
   "nbconvert_exporter": "python",
   "pygments_lexer": "ipython3",
   "version": "3.6.5"
  },
  "toc": {
   "base_numbering": 1,
   "nav_menu": [],
   "number_sections": false,
   "sideBar": false,
   "skip_h1_title": false,
   "title_cell": "Table of Contents",
   "title_sidebar": "Contents",
   "toc_cell": false,
   "toc_position": [],
   "toc_section_display": false,
   "toc_window_display": false
  }
 },
 "nbformat": 4,
 "nbformat_minor": 2
}
